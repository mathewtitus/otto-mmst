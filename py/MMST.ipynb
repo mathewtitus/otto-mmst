{
 "cells": [
  {
   "cell_type": "markdown",
   "id": "3d96d26a",
   "metadata": {},
   "source": [
    "# Mean minimal spanning tree length"
   ]
  },
  {
   "cell_type": "markdown",
   "id": "e9bb823b-63f4-475f-93aa-f1cc69693a8c",
   "metadata": {
    "jp-MarkdownHeadingCollapsed": true
   },
   "source": [
    "### Set up workspace"
   ]
  },
  {
   "cell_type": "markdown",
   "id": "31e6e841",
   "metadata": {},
   "source": [
    "Import supporting libraries"
   ]
  },
  {
   "cell_type": "code",
   "execution_count": 17,
   "id": "96af85d2",
   "metadata": {},
   "outputs": [],
   "source": [
    "# imports\n",
    "\n",
    "import numpy as np\n",
    "import matplotlib.pyplot as plt\n",
    "from matplotlib import cm\n",
    "from itertools import combinations_with_replacement as cwr\n",
    "from functools import reduce\n",
    "import sys\n",
    "import json\n",
    "import ipywidgets as widgets\n"
   ]
  },
  {
   "cell_type": "markdown",
   "id": "59449c4a",
   "metadata": {},
   "source": [
    "Choose $k$, the number of particle types; i.e. the random graph will be $k$-partite."
   ]
  },
  {
   "cell_type": "code",
   "execution_count": 18,
   "id": "1df34a5b",
   "metadata": {},
   "outputs": [],
   "source": [
    "k = 4;\n",
    "assert k == 4, f\"Interaction strength matrix is not defined for k = {k}\""
   ]
  },
  {
   "cell_type": "markdown",
   "id": "ffa06db5",
   "metadata": {},
   "source": [
    "### Creating helper functions"
   ]
  },
  {
   "cell_type": "markdown",
   "id": "248fdcc9",
   "metadata": {
    "jp-MarkdownHeadingCollapsed": true
   },
   "source": [
    "#### Factorial computation"
   ]
  },
  {
   "cell_type": "code",
   "execution_count": 19,
   "id": "26df06f7",
   "metadata": {},
   "outputs": [],
   "source": [
    "def factorial(n: int):\n",
    "  assert isinstance(n, int), f\"Factorial function only accepts integer inputs.\\n(Received {type(n)})\";\n",
    "  if n < 0: return np.nan;\n",
    "  return 1 if ((n==1)|(n==0)) else n*factorial(n-1);"
   ]
  },
  {
   "cell_type": "markdown",
   "id": "ccb05456",
   "metadata": {},
   "source": [
    "#### Define function $f(p,x)$ for each summand $\\{x: \\langle x | 1 \\rangle = n \\}$"
   ]
  },
  {
   "cell_type": "code",
   "execution_count": 44,
   "id": "8ac9b3e5-6329-4b9f-9834-2b4c606a9440",
   "metadata": {},
   "outputs": [],
   "source": [
    "def eff(x: np.ndarray, V: np.ndarray):\n",
    "  xm = [float(num) for num in x - 1];\n",
    "  y = np.matmul(V, x)**np.array(xm)\n",
    "\n",
    "  # compute product of components of y\n",
    "  eff = reduce(\n",
    "      lambda a,b: a*b,\n",
    "      y,\n",
    "      1\n",
    "    )\n",
    "\n",
    "  return eff;"
   ]
  },
  {
   "cell_type": "markdown",
   "id": "d75397ff-0010-474a-b215-1d2ff24d90cf",
   "metadata": {},
   "source": [
    "Create summand function"
   ]
  },
  {
   "cell_type": "code",
   "execution_count": 43,
   "id": "ec234dc3",
   "metadata": {},
   "outputs": [],
   "source": [
    "def summand(x: np.ndarray, V: np.ndarray):\n",
    "\n",
    "  # compute product of powers of components of V*x\n",
    "  f = eff(x,V);\n",
    "  \n",
    "  # compute leading constant numerator\n",
    "  c0 = factorial(int(x.sum()));\n",
    "    \n",
    "  # compute denominator, x! = x_1! * x_2! * ... * x_k!\n",
    "  c1 = reduce(\n",
    "      lambda a,b: a*b,\n",
    "      map(\n",
    "        lambda en: factorial(int(en)), \n",
    "        x\n",
    "      ),\n",
    "      1\n",
    "    )\n",
    "\n",
    "  return c0 * f / c1;"
   ]
  },
  {
   "cell_type": "markdown",
   "id": "c9c89e56",
   "metadata": {
    "jp-MarkdownHeadingCollapsed": true
   },
   "source": [
    "#### Compute partitions"
   ]
  },
  {
   "cell_type": "code",
   "execution_count": 45,
   "id": "28646c5e",
   "metadata": {},
   "outputs": [],
   "source": [
    "def get_partitions(n, k):\n",
    "  '''\n",
    "  number of ways to designate your n particles into k urns:\n",
    "  place k-1 separators among/around the ordered n particles (n+1 choices)\n",
    "  the particles above the highest separator are urn 1 members,\n",
    "  the particles between the first & second sep are in urn 2, ...\n",
    "  the placement of separators is done by choosing one of the n+1 spaces k-1 times\n",
    "  with replacement and without regard to order; use the itertools function for this.\n",
    "  '''\n",
    "  raw_parts = list(\n",
    "      cwr(np.arange(0, n+1), k-1)\n",
    "    ) # weak\n",
    "\n",
    "    # first bin:  rp[0]\n",
    "    # middle bins:  np.diff(rp)\n",
    "    # final bin:  n - rp[-1]\n",
    "\n",
    "  # would be nice to perform this process using map, not listing\n",
    "  out = np.empty((len(raw_parts), k));\n",
    "  for ent, y in enumerate(raw_parts):\n",
    "    out[ent, :] = [y[0]] + np.diff(y).tolist() + [n-y[-1]]\n",
    "\n",
    "  return out;"
   ]
  },
  {
   "cell_type": "markdown",
   "id": "3c15f043",
   "metadata": {
    "jp-MarkdownHeadingCollapsed": true
   },
   "source": [
    "#### Code for generating LHS of (23)"
   ]
  },
  {
   "cell_type": "code",
   "execution_count": 23,
   "id": "1a0a6e6b",
   "metadata": {},
   "outputs": [],
   "source": [
    "def compute_lhs(n, k, V):\n",
    "  lhs = 0;\n",
    "  for x in get_partitions(n,k):\n",
    "    lhs += summand(x, V)\n",
    "  return lhs;"
   ]
  },
  {
   "cell_type": "markdown",
   "id": "7ee591f8",
   "metadata": {
    "jp-MarkdownHeadingCollapsed": true
   },
   "source": [
    "#### Code for generating RHS of (23)"
   ]
  },
  {
   "cell_type": "code",
   "execution_count": 24,
   "id": "63bb78c5",
   "metadata": {},
   "outputs": [],
   "source": [
    "def compute_rhs(n,k):\n",
    "  rhs = k * (k-1)**(n-1) * n**(n-4)\n",
    "  return rhs;"
   ]
  },
  {
   "cell_type": "markdown",
   "id": "b8ac5fcc-fc48-4420-ad72-b9d15c8e48ce",
   "metadata": {},
   "source": [
    "## Plotting"
   ]
  },
  {
   "cell_type": "markdown",
   "id": "971a5cc4-9021-4759-8ea5-4665422c949d",
   "metadata": {
    "jp-MarkdownHeadingCollapsed": true
   },
   "source": [
    "### Surface plot"
   ]
  },
  {
   "cell_type": "markdown",
   "id": "d3e3f71a",
   "metadata": {},
   "source": [
    "Now we get into actually computing the quantities of interest. Resolution manages the resolution of the surface plot below."
   ]
  },
  {
   "cell_type": "code",
   "execution_count": 25,
   "id": "f12e96aa",
   "metadata": {},
   "outputs": [],
   "source": [
    "# resolution of the 2-d plots\n",
    "resolution = 50"
   ]
  },
  {
   "cell_type": "markdown",
   "id": "bb016ed1",
   "metadata": {},
   "source": [
    "Begin by defining the parameters $n$ (total number of particles / nodes in the graph), $p$, $q$, and $r$ (the inter-group interaction strength parameters)\n",
    "We define now the domain for the independent, nonconstant variables:"
   ]
  },
  {
   "cell_type": "code",
   "execution_count": 26,
   "id": "16dcd8a9",
   "metadata": {},
   "outputs": [],
   "source": [
    "lower_bound = 0.5;\n",
    "upper_bound = 20;\n",
    "\n",
    "domain_x = np.linspace(lower_bound, upper_bound, resolution);\n",
    "domain_y = np.linspace(lower_bound, upper_bound, resolution);\n",
    "\n",
    "[X,Y] = np.meshgrid(domain_x, domain_y)\n",
    "F = np.zeros(X.shape)"
   ]
  },
  {
   "cell_type": "markdown",
   "id": "7dc76ba2-2626-4540-a650-37708218019a",
   "metadata": {},
   "source": [
    "Enable and generate widgets"
   ]
  },
  {
   "cell_type": "code",
   "execution_count": 27,
   "id": "ae8b2dba-8888-431a-bbe7-0ca00f7a8ade",
   "metadata": {},
   "outputs": [],
   "source": [
    "%matplotlib widget\n",
    "\n",
    "p_slider = widgets.FloatSlider(\n",
    "    value=1,\n",
    "    min=lower_bound,\n",
    "    max=upper_bound,\n",
    "    step=0.1,\n",
    "    description='p:',\n",
    "    disabled=False,\n",
    "    continuous_update=False,\n",
    "    orientation='horizontal',\n",
    "    readout=True,\n",
    "    readout_format='.1f',\n",
    ")\n",
    "\n",
    "q_slider = widgets.FloatSlider(\n",
    "    value=1,\n",
    "    min=lower_bound,\n",
    "    max=upper_bound,\n",
    "    step=0.1,\n",
    "    description='q:',\n",
    "    disabled=False,\n",
    "    continuous_update=False,\n",
    "    orientation='horizontal',\n",
    "    readout=True,\n",
    "    readout_format='.1f',\n",
    ")\n",
    "\n",
    "r_slider = widgets.FloatSlider(\n",
    "    value=1,\n",
    "    min=lower_bound,\n",
    "    max=upper_bound,\n",
    "    step=0.1,\n",
    "    description='r:',\n",
    "    disabled=False,\n",
    "    continuous_update=False,\n",
    "    orientation='horizontal',\n",
    "    readout=True,\n",
    "    readout_format='.1f',\n",
    ")\n",
    "\n",
    "n_slider = widgets.IntSlider(\n",
    "    value=2,\n",
    "    min=1,\n",
    "    max=20,\n",
    "    step=1,\n",
    "    description='n value:',\n",
    "    continuous_update=False,\n",
    "    orientation='horizontal',\n",
    "    readout=True,\n",
    "    readout_format='d'\n",
    ")\n"
   ]
  },
  {
   "cell_type": "markdown",
   "id": "eb238c39",
   "metadata": {},
   "source": [
    "Compute the interaction strength matrix, then execute the computation steps.\n",
    "\n",
    "#### Notice that the output matrix $F$ is the ratio fo the left- and right-hand sides of (24):"
   ]
  },
  {
   "cell_type": "code",
   "execution_count": 28,
   "id": "8da68334",
   "metadata": {},
   "outputs": [],
   "source": [
    "\n",
    "def run_plot(n,var3):\n",
    "    global F\n",
    "    \n",
    "    r = var3;\n",
    "    for eye, p in enumerate(domain_x):\n",
    "      for jay, q in enumerate(domain_y):\n",
    "        V = np.array([\n",
    "          [0, p, q, r],\n",
    "          [p, 0, r, q],\n",
    "          [q, r, 0, p],\n",
    "          [r, q, p, 0]\n",
    "        ])\n",
    "\n",
    "        G = compute_lhs(n,k,V)\n",
    "        H = compute_rhs(n,k)\n",
    "        F[eye, jay] = G/H;\n",
    "\n",
    "    fig, ax = plt.subplots(subplot_kw={\"projection\": \"3d\"})\n",
    "    surf = ax.plot_surface(X, Y, F, cmap=cm.coolwarm,\n",
    "                           linewidth=0, antialiased=False)\n",
    "    \n",
    "    ax.set_title(f\"k={k}, n={n}\\nG(p, q, {r})/H\")\n",
    "    plt.show()"
   ]
  },
  {
   "cell_type": "markdown",
   "id": "59f1348e",
   "metadata": {},
   "source": [
    "We plot here the results:"
   ]
  },
  {
   "cell_type": "code",
   "execution_count": 30,
   "id": "342a48b0-f799-4c74-9a2b-9338eac423b3",
   "metadata": {},
   "outputs": [
    {
     "data": {
      "application/vnd.jupyter.widget-view+json": {
       "model_id": "43f39a8c769c4e16886604b7fdef95da",
       "version_major": 2,
       "version_minor": 0
      },
      "text/plain": [
       "interactive(children=(IntSlider(value=2, continuous_update=False, description='n value:', max=20, min=1), Floa…"
      ]
     },
     "metadata": {},
     "output_type": "display_data"
    },
    {
     "data": {
      "text/plain": [
       "<function __main__.run_plot(n, var3)>"
      ]
     },
     "execution_count": 30,
     "metadata": {},
     "output_type": "execute_result"
    }
   ],
   "source": [
    "widgets.interact(run_plot, n=n_slider, var3=r_slider)"
   ]
  },
  {
   "cell_type": "markdown",
   "id": "e5197535-ffcf-4189-9386-c7d1f80e7116",
   "metadata": {},
   "source": [
    "## Computing sums of $f(p, x)$ and $f(\\bar{p}, x)$"
   ]
  },
  {
   "cell_type": "markdown",
   "id": "e7cd5c53-86b4-404d-99d7-0afeb4d4565c",
   "metadata": {},
   "source": [
    "The function `summand` above computes $f(p,x)$ where $V$ is given as a function of $p$, $q$, and $r$."
   ]
  },
  {
   "cell_type": "markdown",
   "id": "9a7b0eeb-c3f1-466e-93a7-71b133f9818b",
   "metadata": {},
   "source": [
    "We can compute $f(\\bar{p},x)$ as well by passing in $\\mathbb{1}_k * \\mathbb{1}_k^T - I_k$ in place of $V$ and prepending a factor of $\\left(\\frac{p+q+r}{3}\\right)^{n-4}$:"
   ]
  },
  {
   "cell_type": "markdown",
   "id": "dbcca4fd-9414-4621-8364-2943323fbce4",
   "metadata": {},
   "source": [
    "### Adding helper functions for $f(\\bar{p}, x)$"
   ]
  },
  {
   "cell_type": "markdown",
   "id": "3378b7d3-6a3b-4e5a-88d8-ffc3c21ffe24",
   "metadata": {},
   "source": [
    "Compute $f(\\bar{p}, x)$"
   ]
  },
  {
   "cell_type": "code",
   "execution_count": 50,
   "id": "0caf3ad6-d4e3-4def-a53c-7c5c64873653",
   "metadata": {},
   "outputs": [],
   "source": [
    "def eff_bar(x: np.ndarray, p, q, r):\n",
    "  C = np.mean([p, q, r]);\n",
    "  f = eff(x, np.ones((k,k)) - np.eye(k));\n",
    "  f_bar = C**(np.sum(x) - 4.0) * f;\n",
    "  return f_bar;\n",
    "\n",
    "def summand_bar(x, p, q, r):\n",
    "  f_bar = eff_bar(x,p,q,r);\n",
    "\n",
    "  # compute leading constant numerator\n",
    "  c0 = factorial(int(x.sum()));\n",
    "\n",
    "  # compute denominator, x! = x_1! * x_2! * ... * x_k!\n",
    "  c1 = reduce(\n",
    "      lambda a,b: a*b,\n",
    "      map(\n",
    "        lambda en: factorial(int(en)), \n",
    "        x\n",
    "      ),\n",
    "      1\n",
    "    )\n",
    "\n",
    "  return c0 * f_bar / c1;"
   ]
  },
  {
   "cell_type": "markdown",
   "id": "5f93e6bc-f59a-4669-a68f-b4aa7503f6c0",
   "metadata": {},
   "source": [
    "Define the plot"
   ]
  },
  {
   "cell_type": "code",
   "execution_count": 59,
   "id": "054305c5-7156-4bc8-9f8d-1171f69f0e47",
   "metadata": {},
   "outputs": [],
   "source": [
    "def eff_vs_eff_bar(var1, var2, var3):\n",
    "    \n",
    "    [p, q, r] = var1, var2, var3;\n",
    "    V = np.array([\n",
    "      [0, p, q, r],\n",
    "      [p, 0, r, q],\n",
    "      [q, r, 0, p],\n",
    "      [r, q, p, 0]\n",
    "    ])\n",
    "\n",
    "    n_domain = np.arange(1, 10);\n",
    "    series1 = np.zeros(n_domain.shape);\n",
    "    series2 = np.zeros(n_domain.shape);\n",
    "    for ent, n in enumerate(n_domain):\n",
    "        summa = 0; # sum of f(p,x)\n",
    "        sum_bar = 0; # sum of f(p-bar, x)\n",
    "        for x in get_partitions(n,k):\n",
    "            # compute denominator, x! = x_1! * x_2! * ... * x_k!\n",
    "            c1 = reduce(\n",
    "              lambda a,b: a*b,\n",
    "              map(\n",
    "                lambda en: factorial(int(en)), \n",
    "                x\n",
    "              ),\n",
    "              1\n",
    "            )\n",
    "            \n",
    "            summa += eff(x, V) / c1;\n",
    "            sum_bar += eff_bar(x, p, q, r) / c1;\n",
    "\n",
    "        # record results, normalizing by n!\n",
    "        series1[ent] = summa;\n",
    "        series2[ent] = sum_bar;\n",
    "\n",
    "    # plot the two series\n",
    "    fig, ax = plt.subplots()\n",
    "    ax.scatter(n_domain, series1, color=\"tab:blue\")\n",
    "    ax.set_yscale('log')\n",
    "    \n",
    "    ax.set_title(f\"k={k}\\n(p,q,r) = ({p},{q},{r})\")\n",
    "    ax.set_xlabel(\"n\")\n",
    "    ax.set_ylabel(\"f(p,x)\", color=\"blue\")\n",
    "    # ax.xaxis.label.set_color('red')\n",
    "\n",
    "    ax.tick_params(axis='y')\n",
    "\n",
    "    ax2 = ax.twinx();\n",
    "    # ax2.scatter(n_domain, series2)\n",
    "    ax2.scatter(n_domain, series2, color=\"tab:orange\", marker=\"*\")\n",
    "    ax2.set_ylabel(\"f(p-bar, x)\", color=\"orange\")\n",
    "    ax2.set_yscale('log')\n",
    "\n",
    "    # comment this out to have independent y-axes\n",
    "    ax2.sharey(ax)\n",
    "\n",
    "    plt.show()"
   ]
  },
  {
   "cell_type": "markdown",
   "id": "b2b08a19-762b-4cc0-9327-1ad2aa1651ee",
   "metadata": {},
   "source": [
    "### The plot"
   ]
  },
  {
   "cell_type": "code",
   "execution_count": 60,
   "id": "ed63d0b2-42a0-449b-a9af-c56589fca53e",
   "metadata": {},
   "outputs": [
    {
     "data": {
      "application/vnd.jupyter.widget-view+json": {
       "model_id": "25ac41bb7f96447c8b15118512f111cf",
       "version_major": 2,
       "version_minor": 0
      },
      "text/plain": [
       "interactive(children=(FloatSlider(value=1.0, continuous_update=False, description='p:', max=20.0, min=0.5, rea…"
      ]
     },
     "metadata": {},
     "output_type": "display_data"
    },
    {
     "data": {
      "text/plain": [
       "<function __main__.eff_vs_eff_bar(var1, var2, var3)>"
      ]
     },
     "execution_count": 60,
     "metadata": {},
     "output_type": "execute_result"
    }
   ],
   "source": [
    "widgets.interact(eff_vs_eff_bar, var1=p_slider, var2=q_slider, var3=r_slider)"
   ]
  },
  {
   "cell_type": "code",
   "execution_count": null,
   "id": "98385d3a-5b7d-47c7-8f2f-21a1b7cb07a0",
   "metadata": {},
   "outputs": [],
   "source": []
  }
 ],
 "metadata": {
  "kernelspec": {
   "display_name": "Python 3 (ipykernel)",
   "language": "python",
   "name": "python3"
  },
  "language_info": {
   "codemirror_mode": {
    "name": "ipython",
    "version": 3
   },
   "file_extension": ".py",
   "mimetype": "text/x-python",
   "name": "python",
   "nbconvert_exporter": "python",
   "pygments_lexer": "ipython3",
   "version": "3.12.3"
  }
 },
 "nbformat": 4,
 "nbformat_minor": 5
}
