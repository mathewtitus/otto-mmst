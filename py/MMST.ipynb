{
 "cells": [
  {
   "cell_type": "markdown",
   "id": "3d96d26a",
   "metadata": {},
   "source": [
    "# Mean minimal spanning tree length"
   ]
  },
  {
   "cell_type": "markdown",
   "id": "31e6e841",
   "metadata": {},
   "source": [
    "Import supporting libraries"
   ]
  },
  {
   "cell_type": "code",
   "execution_count": 1,
   "id": "96af85d2",
   "metadata": {},
   "outputs": [],
   "source": [
    "# imports\n",
    "\n",
    "import numpy as np\n",
    "import matplotlib.pyplot as plt\n",
    "from itertools import combinations_with_replacement as cwr\n",
    "from functools import reduce\n",
    "import sys\n",
    "import json"
   ]
  },
  {
   "cell_type": "markdown",
   "id": "59449c4a",
   "metadata": {},
   "source": [
    "Choose $k$, the number of particle types; i.e. the random graph will be $k$-partite."
   ]
  },
  {
   "cell_type": "code",
   "execution_count": 2,
   "id": "1df34a5b",
   "metadata": {},
   "outputs": [],
   "source": [
    "k = 4;\n",
    "assert k == 4, f\"Interaction strength matrix is not defined for k = {k}\""
   ]
  },
  {
   "cell_type": "markdown",
   "id": "ffa06db5",
   "metadata": {},
   "source": [
    "### Creating helper functions"
   ]
  },
  {
   "cell_type": "markdown",
   "id": "248fdcc9",
   "metadata": {},
   "source": [
    "#### Factorial computation"
   ]
  },
  {
   "cell_type": "code",
   "execution_count": 3,
   "id": "26df06f7",
   "metadata": {},
   "outputs": [],
   "source": [
    "def factorial(n: int):\n",
    "  assert isinstance(n, int), f\"Factorial function only accepts integer inputs.\\n(Received {type(n)})\";\n",
    "  if n < 0: return np.nan;\n",
    "  return 1 if ((n==1)|(n==0)) else n*factorial(n-1);"
   ]
  },
  {
   "cell_type": "markdown",
   "id": "ccb05456",
   "metadata": {},
   "source": [
    "#### Define function for each summand $\\{x: \\langle x | 1 \\rangle = n \\}$"
   ]
  },
  {
   "cell_type": "code",
   "execution_count": 8,
   "id": "ec234dc3",
   "metadata": {},
   "outputs": [],
   "source": [
    "def summand(x: np.ndarray, V: np.ndarray):\n",
    "  xm = [float(num) for num in x - 1];\n",
    "  y = np.matmul(V, x)**np.array(xm)\n",
    "\n",
    "  # compute leading constant\n",
    "  c0 = factorial(int(x.sum()))\n",
    "\n",
    "  # compute product of components of y\n",
    "  c1 = reduce(\n",
    "      lambda a,b: a*b,\n",
    "      y,\n",
    "      1\n",
    "    )\n",
    "  \n",
    "  # compute denominator, x! = x_1! * x_2! * ... * x_k!\n",
    "  c2 = reduce(\n",
    "      lambda a,b: a*b,\n",
    "      map(\n",
    "        lambda en: factorial(int(en)), \n",
    "        x\n",
    "      ),\n",
    "      1\n",
    "    )\n",
    "\n",
    "  return c0 * c1 / c2;"
   ]
  },
  {
   "cell_type": "markdown",
   "id": "c9c89e56",
   "metadata": {},
   "source": [
    "#### Compute partitions"
   ]
  },
  {
   "cell_type": "code",
   "execution_count": 9,
   "id": "28646c5e",
   "metadata": {},
   "outputs": [],
   "source": [
    "def get_partitions(n, k):\n",
    "  '''\n",
    "  number of ways to designate your n particles into k urns:\n",
    "  place k-1 separators among/around the ordered n particles (n+1 choices)\n",
    "  the particles above the highest separator are urn 1 members,\n",
    "  the particles between the first & second sep are in urn 2, ...\n",
    "  the placement of separators is done by choosing one of the n+1 spaces k-1 times\n",
    "  with replacement and without regard to order; use the itertools function for this.\n",
    "  '''\n",
    "  raw_parts = list(\n",
    "      cwr(np.arange(0, n+1), k-1)\n",
    "    ) # weak\n",
    "\n",
    "    # first bin:  rp[0]\n",
    "    # middle bins:  np.diff(rp)\n",
    "    # final bin:  n - rp[-1]\n",
    "\n",
    "  # would be nice to perform this process using map, not listing\n",
    "  out = np.empty((len(raw_parts), k));\n",
    "  for ent, y in enumerate(raw_parts):\n",
    "    out[ent, :] = [y[0]] + np.diff(y).tolist() + [n-y[-1]]\n",
    "\n",
    "  return out;"
   ]
  },
  {
   "cell_type": "markdown",
   "id": "3c15f043",
   "metadata": {},
   "source": [
    "#### Code for generating LHS of (23)"
   ]
  },
  {
   "cell_type": "code",
   "execution_count": 10,
   "id": "1a0a6e6b",
   "metadata": {},
   "outputs": [],
   "source": [
    "def compute_lhs(n, k, V):\n",
    "  lhs = 0;\n",
    "  for part in get_partitions(n,k):\n",
    "    lhs += summand(part, V)\n",
    "  return lhs;"
   ]
  },
  {
   "cell_type": "markdown",
   "id": "7ee591f8",
   "metadata": {},
   "source": [
    "#### Code for generating RHS of (23)"
   ]
  },
  {
   "cell_type": "code",
   "execution_count": 11,
   "id": "63bb78c5",
   "metadata": {},
   "outputs": [],
   "source": [
    "def compute_rhs(n,k):\n",
    "  rhs = k * (k-1)**(n-1) * n**(n-4)\n",
    "  return rhs;"
   ]
  },
  {
   "cell_type": "markdown",
   "id": "d3e3f71a",
   "metadata": {},
   "source": [
    "Now we get into actually computing the quantities of interest; begin by defining the parameters $n$ (total number of particles / nodes in the graph), $p$, $q$, and $r$ (the inter-group interaction strength parameters). Resolution manages the resolution of the surface plot below."
   ]
  },
  {
   "cell_type": "code",
   "execution_count": 14,
   "id": "f12e96aa",
   "metadata": {},
   "outputs": [],
   "source": [
    "# define n - the number of total particles\n",
    "n = 2\n",
    "\n",
    "# define interaction strength matrix\n",
    "p, q, r = [1, 1, 5]\n",
    "\n",
    "# resolution of the 2-d plots\n",
    "resolution = 100"
   ]
  },
  {
   "cell_type": "markdown",
   "id": "bb016ed1",
   "metadata": {},
   "source": [
    "We define now the domain for the independent, nonconstant variables:"
   ]
  },
  {
   "cell_type": "code",
   "execution_count": 31,
   "id": "16dcd8a9",
   "metadata": {},
   "outputs": [],
   "source": [
    "lower_bound = 0.5;\n",
    "upper_bound = 20;\n",
    "\n",
    "domain_x = np.linspace(lower_bound, upper_bound, resolution);\n",
    "domain_y = np.linspace(lower_bound, upper_bound, resolution);\n",
    "[X,Y] = np.meshgrid(domain_x, domain_y)\n",
    "Z = np.zeros(X.shape)"
   ]
  },
  {
   "cell_type": "markdown",
   "id": "eb238c39",
   "metadata": {},
   "source": [
    "Compute the interaction strength matrix, then execute the computation steps.\n",
    "\n",
    "Notice that the output matrix $Z$ is the ratio fo the left- and right-hand sides of (24):"
   ]
  },
  {
   "cell_type": "code",
   "execution_count": 29,
   "id": "8da68334",
   "metadata": {},
   "outputs": [],
   "source": [
    "%timeit\n",
    "\n",
    "def run_plot(n,var1,var2,var3)\n",
    "    for eye, p in enumerate(domain_x):\n",
    "      for jay, q in enumerate(domain_y):\n",
    "        V = np.array([\n",
    "          [0, p, q, r],\n",
    "          [p, 0, r, q],\n",
    "          [q, r, 0, p],\n",
    "          [r, q, p, 0]\n",
    "        ])\n",
    "\n",
    "        lhs = compute_lhs(n,k,V)\n",
    "        rhs = compute_rhs(n,k)\n",
    "        Z[eye, jay] = lhs/rhs;"
   ]
  },
  {
   "cell_type": "markdown",
   "id": "59f1348e",
   "metadata": {},
   "source": [
    "We plot here the results:"
   ]
  },
  {
   "cell_type": "code",
   "execution_count": 30,
   "id": "4dc9dfbc",
   "metadata": {},
   "outputs": [
    {
     "data": {
      "image/png": "[encoded data removed]",
      "text/plain": [
       "<Figure size 432x288 with 1 Axes>"
      ]
     },
     "metadata": {
      "needs_background": "light"
     },
     "output_type": "display_data"
    }
   ],
   "source": [
    "import ipywidgets as widgets\n",
    "from IPython.display import display\n",
    "\n",
    "from matplotlib import cm\n",
    "\n",
    "fig, ax = plt.subplots(subplot_kw={\"projection\": \"3d\"})\n",
    "surf = ax.plot_surface(X, Y, Z, cmap=cm.coolwarm,\n",
    "                       linewidth=0, antialiased=False)\n",
    "\n",
    "plt.show()"
   ]
  },
  {
   "cell_type": "markdown",
   "id": "235a34cb",
   "metadata": {},
   "source": [
    "Adding ipy-widgets:"
   ]
  },
  {
   "cell_type": "code",
   "execution_count": null,
   "id": "6093c5d6",
   "metadata": {},
   "outputs": [],
   "source": [
    "import ipywidgets as widgets\n",
    "from IPython.display import display\n",
    "\n",
    "def update_plot(year_range):\n",
    "    start_year, end_year = year_range\n",
    "    mask = (x >= start_year) & (x <= end_year)\n",
    "\n",
    "    fig, ax = plt.subplots(figsize=(10, 6))\n",
    "    plot(x[mask], y1[mask], ax, f'Increase in mean Fortune 500 company profits from {start_year} to {end_year}', 'Profit (millions)')\n",
    "    plt.show()\n",
    "\n",
    "year_range_slider = widgets.IntRangeSlider(\n",
    "    value=[1955, 2005],\n",
    "    min=1955,\n",
    "    max=2005,\n",
    "    step=1,\n",
    "    description='Year range:',\n",
    "    continuous_update=False\n",
    ")\n",
    "\n",
    "widgets.interact(update_plot, year_range=year_range_slider)"
   ]
  },
  {
   "cell_type": "code",
   "execution_count": 23,
   "id": "95269209",
   "metadata": {},
   "outputs": [
    {
     "data": {
      "text/plain": [
       "'C:\\\\Users\\\\litso\\\\Documents\\\\Sunstrand\\\\Math\\\\otto-mmst\\\\py'"
      ]
     },
     "execution_count": 23,
     "metadata": {},
     "output_type": "execute_result"
    }
   ],
   "source": [
    "%pwd"
   ]
  },
  {
   "cell_type": "code",
   "execution_count": 27,
   "id": "3e1f2b2e",
   "metadata": {},
   "outputs": [
    {
     "data": {
      "application/javascript": [
       "let i = 20;\n",
       "console.log(i)\n",
       "alert(\"Yo\")\n"
      ],
      "text/plain": [
       "<IPython.core.display.Javascript object>"
      ]
     },
     "metadata": {},
     "output_type": "display_data"
    }
   ],
   "source": [
    "%%javascript\n",
    "let i = 20;\n",
    "console.log(i)\n",
    "alert(\"Yo\")"
   ]
  },
  {
   "cell_type": "code",
   "execution_count": null,
   "id": "63331fb4",
   "metadata": {},
   "outputs": [],
   "source": []
  }
 ],
 "metadata": {
  "kernelspec": {
   "display_name": "Python 3 (ipykernel)",
   "language": "python",
   "name": "python3"
  },
  "language_info": {
   "codemirror_mode": {
    "name": "ipython",
    "version": 3
   },
   "file_extension": ".py",
   "mimetype": "text/x-python",
   "name": "python",
   "nbconvert_exporter": "python",
   "pygments_lexer": "ipython3",
   "version": "3.9.12"
  }
 },
 "nbformat": 4,
 "nbformat_minor": 5
}
