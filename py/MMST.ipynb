{
 "cells": [
  {
   "cell_type": "markdown",
   "id": "3d96d26a",
   "metadata": {},
   "source": [
    "# Mean minimal spanning tree length"
   ]
  },
  {
   "cell_type": "markdown",
   "id": "31e6e841",
   "metadata": {},
   "source": [
    "Import supporting libraries"
   ]
  },
  {
   "cell_type": "code",
   "execution_count": 24,
   "id": "96af85d2",
   "metadata": {},
   "outputs": [],
   "source": [
    "# imports\n",
    "\n",
    "import numpy as np\n",
    "import matplotlib.pyplot as plt\n",
    "from matplotlib import cm\n",
    "from itertools import combinations_with_replacement as cwr\n",
    "from functools import reduce\n",
    "import sys\n",
    "import json\n",
    "import ipywidgets as widgets\n"
   ]
  },
  {
   "cell_type": "markdown",
   "id": "59449c4a",
   "metadata": {},
   "source": [
    "Choose $k$, the number of particle types; i.e. the random graph will be $k$-partite."
   ]
  },
  {
   "cell_type": "code",
   "execution_count": 25,
   "id": "1df34a5b",
   "metadata": {},
   "outputs": [],
   "source": [
    "k = 4;\n",
    "assert k == 4, f\"Interaction strength matrix is not defined for k = {k}\""
   ]
  },
  {
   "cell_type": "markdown",
   "id": "ffa06db5",
   "metadata": {},
   "source": [
    "### Creating helper functions"
   ]
  },
  {
   "cell_type": "markdown",
   "id": "248fdcc9",
   "metadata": {},
   "source": [
    "#### Factorial computation"
   ]
  },
  {
   "cell_type": "code",
   "execution_count": 26,
   "id": "26df06f7",
   "metadata": {},
   "outputs": [],
   "source": [
    "def factorial(n: int):\n",
    "  assert isinstance(n, int), f\"Factorial function only accepts integer inputs.\\n(Received {type(n)})\";\n",
    "  if n < 0: return np.nan;\n",
    "  return 1 if ((n==1)|(n==0)) else n*factorial(n-1);"
   ]
  },
  {
   "cell_type": "markdown",
   "id": "ccb05456",
   "metadata": {},
   "source": [
    "#### Define function for each summand $\\{x: \\langle x | 1 \\rangle = n \\}$"
   ]
  },
  {
   "cell_type": "code",
   "execution_count": 27,
   "id": "ec234dc3",
   "metadata": {},
   "outputs": [],
   "source": [
    "def summand(x: np.ndarray, V: np.ndarray):\n",
    "  xm = [float(num) for num in x - 1];\n",
    "  y = np.matmul(V, x)**np.array(xm)\n",
    "\n",
    "  # compute leading constant\n",
    "  c0 = factorial(int(x.sum()))\n",
    "\n",
    "  # compute product of components of y\n",
    "  c1 = reduce(\n",
    "      lambda a,b: a*b,\n",
    "      y,\n",
    "      1\n",
    "    )\n",
    "  \n",
    "  # compute denominator, x! = x_1! * x_2! * ... * x_k!\n",
    "  c2 = reduce(\n",
    "      lambda a,b: a*b,\n",
    "      map(\n",
    "        lambda en: factorial(int(en)), \n",
    "        x\n",
    "      ),\n",
    "      1\n",
    "    )\n",
    "\n",
    "  return c0 * c1 / c2;"
   ]
  },
  {
   "cell_type": "markdown",
   "id": "c9c89e56",
   "metadata": {},
   "source": [
    "#### Compute partitions"
   ]
  },
  {
   "cell_type": "code",
   "execution_count": 28,
   "id": "28646c5e",
   "metadata": {},
   "outputs": [],
   "source": [
    "def get_partitions(n, k):\n",
    "  '''\n",
    "  number of ways to designate your n particles into k urns:\n",
    "  place k-1 separators among/around the ordered n particles (n+1 choices)\n",
    "  the particles above the highest separator are urn 1 members,\n",
    "  the particles between the first & second sep are in urn 2, ...\n",
    "  the placement of separators is done by choosing one of the n+1 spaces k-1 times\n",
    "  with replacement and without regard to order; use the itertools function for this.\n",
    "  '''\n",
    "  raw_parts = list(\n",
    "      cwr(np.arange(0, n+1), k-1)\n",
    "    ) # weak\n",
    "\n",
    "    # first bin:  rp[0]\n",
    "    # middle bins:  np.diff(rp)\n",
    "    # final bin:  n - rp[-1]\n",
    "\n",
    "  # would be nice to perform this process using map, not listing\n",
    "  out = np.empty((len(raw_parts), k));\n",
    "  for ent, y in enumerate(raw_parts):\n",
    "    out[ent, :] = [y[0]] + np.diff(y).tolist() + [n-y[-1]]\n",
    "\n",
    "  return out;"
   ]
  },
  {
   "cell_type": "markdown",
   "id": "3c15f043",
   "metadata": {},
   "source": [
    "#### Code for generating LHS of (23)"
   ]
  },
  {
   "cell_type": "code",
   "execution_count": 29,
   "id": "1a0a6e6b",
   "metadata": {},
   "outputs": [],
   "source": [
    "def compute_lhs(n, k, V):\n",
    "  lhs = 0;\n",
    "  for part in get_partitions(n,k):\n",
    "    lhs += summand(part, V)\n",
    "  return lhs;"
   ]
  },
  {
   "cell_type": "markdown",
   "id": "7ee591f8",
   "metadata": {},
   "source": [
    "#### Code for generating RHS of (23)"
   ]
  },
  {
   "cell_type": "code",
   "execution_count": 30,
   "id": "63bb78c5",
   "metadata": {},
   "outputs": [],
   "source": [
    "def compute_rhs(n,k):\n",
    "  rhs = k * (k-1)**(n-1) * n**(n-4)\n",
    "  return rhs;"
   ]
  },
  {
   "cell_type": "markdown",
   "id": "d3e3f71a",
   "metadata": {},
   "source": [
    "Now we get into actually computing the quantities of interest. Resolution manages the resolution of the surface plot below."
   ]
  },
  {
   "cell_type": "code",
   "execution_count": 31,
   "id": "f12e96aa",
   "metadata": {},
   "outputs": [],
   "source": [
    "# resolution of the 2-d plots\n",
    "resolution = 50"
   ]
  },
  {
   "cell_type": "markdown",
   "id": "bb016ed1",
   "metadata": {},
   "source": [
    "Begin by defining the parameters $n$ (total number of particles / nodes in the graph), $p$, $q$, and $r$ (the inter-group interaction strength parameters)\n",
    "We define now the domain for the independent, nonconstant variables:"
   ]
  },
  {
   "cell_type": "code",
   "execution_count": 32,
   "id": "16dcd8a9",
   "metadata": {},
   "outputs": [],
   "source": [
    "lower_bound = 0.5;\n",
    "upper_bound = 20;\n",
    "\n",
    "domain_x = np.linspace(lower_bound, upper_bound, resolution);\n",
    "domain_y = np.linspace(lower_bound, upper_bound, resolution);\n",
    "\n",
    "[X,Y] = np.meshgrid(domain_x, domain_y)\n",
    "Z = np.zeros(X.shape)\n",
    "\n",
    "r_slider = widgets.FloatSlider(\n",
    "    value=1,\n",
    "    min=lower_bound,\n",
    "    max=upper_bound,\n",
    "    step=0.1,\n",
    "    description='r:',\n",
    "    disabled=False,\n",
    "    continuous_update=False,\n",
    "    orientation='horizontal',\n",
    "    readout=True,\n",
    "    readout_format='.1f',\n",
    ")\n",
    "\n",
    "n_slider = widgets.IntSlider(\n",
    "    value=2,\n",
    "    min=1,\n",
    "    max=20,\n",
    "    step=1,\n",
    "    description='n value:',\n",
    "    continuous_update=False,\n",
    "    orientation='horizontal',\n",
    "    readout=True,\n",
    "    readout_format='d'\n",
    ")\n"
   ]
  },
  {
   "cell_type": "markdown",
   "id": "eb238c39",
   "metadata": {},
   "source": [
    "Compute the interaction strength matrix, then execute the computation steps.\n",
    "\n",
    "#### Notice that the output matrix $Z$ is the ratio fo the left- and right-hand sides of (24):"
   ]
  },
  {
   "cell_type": "code",
   "execution_count": 36,
   "id": "8da68334",
   "metadata": {},
   "outputs": [],
   "source": [
    "\n",
    "def run_plot(n,var3):\n",
    "    r = var3;\n",
    "    for eye, p in enumerate(domain_x):\n",
    "      for jay, q in enumerate(domain_y):\n",
    "        V = np.array([\n",
    "          [0, p, q, r],\n",
    "          [p, 0, r, q],\n",
    "          [q, r, 0, p],\n",
    "          [r, q, p, 0]\n",
    "        ])\n",
    "\n",
    "        G = compute_lhs(n,k,V)\n",
    "        F = compute_rhs(n,k)\n",
    "        Z[eye, jay] = G/F;\n",
    "\n",
    "    fig, ax = plt.subplots(subplot_kw={\"projection\": \"3d\"})\n",
    "    surf = ax.plot_surface(X, Y, Z, cmap=cm.coolwarm,\n",
    "                           linewidth=0, antialiased=False)\n",
    "    \n",
    "    ax.set_title(f\"k={k}, n={n}\\nG(p, q, {r})/F\")\n",
    "    plt.show()"
   ]
  },
  {
   "cell_type": "markdown",
   "id": "59f1348e",
   "metadata": {},
   "source": [
    "We plot here the results:"
   ]
  },
  {
   "cell_type": "code",
   "execution_count": 37,
   "id": "93589499-c82b-45b4-af74-627cc684612b",
   "metadata": {},
   "outputs": [],
   "source": [
    "# Adding ipy-widgets:\n",
    "%matplotlib widget"
   ]
  },
  {
   "cell_type": "code",
   "execution_count": 35,
   "id": "342a48b0-f799-4c74-9a2b-9338eac423b3",
   "metadata": {},
   "outputs": [
    {
     "data": {
      "application/vnd.jupyter.widget-view+json": {
       "model_id": "4d3d21203a2349df9339ec3d1a9a5a98",
       "version_major": 2,
       "version_minor": 0
      },
      "text/plain": [
       "interactive(children=(IntSlider(value=2, continuous_update=False, description='n value:', max=20, min=1), Floa…"
      ]
     },
     "metadata": {},
     "output_type": "display_data"
    },
    {
     "data": {
      "text/plain": [
       "<function __main__.run_plot(n, var3)>"
      ]
     },
     "execution_count": 35,
     "metadata": {},
     "output_type": "execute_result"
    }
   ],
   "source": [
    "widgets.interact(run_plot, n=n_slider, var3=r_slider)"
   ]
  },
  {
   "cell_type": "code",
   "execution_count": null,
   "id": "ebe449e7-2bd0-4c15-b264-d9d286a626c5",
   "metadata": {},
   "outputs": [],
   "source": []
  }
 ],
 "metadata": {
  "kernelspec": {
   "display_name": "Python 3 (ipykernel)",
   "language": "python",
   "name": "python3"
  },
  "language_info": {
   "codemirror_mode": {
    "name": "ipython",
    "version": 3
   },
   "file_extension": ".py",
   "mimetype": "text/x-python",
   "name": "python",
   "nbconvert_exporter": "python",
   "pygments_lexer": "ipython3",
   "version": "3.9.4"
  }
 },
 "nbformat": 4,
 "nbformat_minor": 5
}
