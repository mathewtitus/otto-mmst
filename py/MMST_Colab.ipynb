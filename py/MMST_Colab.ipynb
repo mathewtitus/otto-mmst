{
  "cells": [
    {
      "cell_type": "markdown",
      "id": "3d96d26a",
      "metadata": {
        "id": "3d96d26a"
      },
      "source": [
        "# Mean minimal spanning tree length"
      ]
    },
    {
      "cell_type": "markdown",
      "id": "e9bb823b-63f4-475f-93aa-f1cc69693a8c",
      "metadata": {
        "jp-MarkdownHeadingCollapsed": true,
        "id": "e9bb823b-63f4-475f-93aa-f1cc69693a8c"
      },
      "source": [
        "### Set up workspace"
      ]
    },
    {
      "cell_type": "code",
      "source": [
        "pip install ipympl"
      ],
      "metadata": {
        "id": "e7zyAOGAZNlz",
        "outputId": "9622e774-d18b-417b-eae3-a6728246405b",
        "colab": {
          "base_uri": "https://localhost:8080/"
        }
      },
      "id": "e7zyAOGAZNlz",
      "execution_count": 18,
      "outputs": [
        {
          "output_type": "stream",
          "name": "stdout",
          "text": [
            "Collecting ipympl\n",
            "  Downloading ipympl-0.9.4-py3-none-any.whl (516 kB)\n",
            "\u001b[2K     \u001b[90m━━━━━━━━━━━━━━━━━━━━━━━━━━━━━━━━━━━━━━━━\u001b[0m \u001b[32m516.3/516.3 kB\u001b[0m \u001b[31m9.3 MB/s\u001b[0m eta \u001b[36m0:00:00\u001b[0m\n",
            "\u001b[?25hRequirement already satisfied: ipython-genutils in /usr/local/lib/python3.10/dist-packages (from ipympl) (0.2.0)\n",
            "Requirement already satisfied: ipython<9 in /usr/local/lib/python3.10/dist-packages (from ipympl) (7.34.0)\n",
            "Requirement already satisfied: ipywidgets<9,>=7.6.0 in /usr/local/lib/python3.10/dist-packages (from ipympl) (7.7.1)\n",
            "Requirement already satisfied: matplotlib<4,>=3.4.0 in /usr/local/lib/python3.10/dist-packages (from ipympl) (3.7.1)\n",
            "Requirement already satisfied: numpy in /usr/local/lib/python3.10/dist-packages (from ipympl) (1.25.2)\n",
            "Requirement already satisfied: pillow in /usr/local/lib/python3.10/dist-packages (from ipympl) (9.4.0)\n",
            "Requirement already satisfied: traitlets<6 in /usr/local/lib/python3.10/dist-packages (from ipympl) (5.7.1)\n",
            "Requirement already satisfied: setuptools>=18.5 in /usr/local/lib/python3.10/dist-packages (from ipython<9->ipympl) (67.7.2)\n",
            "Collecting jedi>=0.16 (from ipython<9->ipympl)\n",
            "  Downloading jedi-0.19.1-py2.py3-none-any.whl (1.6 MB)\n",
            "\u001b[2K     \u001b[90m━━━━━━━━━━━━━━━━━━━━━━━━━━━━━━━━━━━━━━━━\u001b[0m \u001b[32m1.6/1.6 MB\u001b[0m \u001b[31m44.2 MB/s\u001b[0m eta \u001b[36m0:00:00\u001b[0m\n",
            "\u001b[?25hRequirement already satisfied: decorator in /usr/local/lib/python3.10/dist-packages (from ipython<9->ipympl) (4.4.2)\n",
            "Requirement already satisfied: pickleshare in /usr/local/lib/python3.10/dist-packages (from ipython<9->ipympl) (0.7.5)\n",
            "Requirement already satisfied: prompt-toolkit!=3.0.0,!=3.0.1,<3.1.0,>=2.0.0 in /usr/local/lib/python3.10/dist-packages (from ipython<9->ipympl) (3.0.43)\n",
            "Requirement already satisfied: pygments in /usr/local/lib/python3.10/dist-packages (from ipython<9->ipympl) (2.16.1)\n",
            "Requirement already satisfied: backcall in /usr/local/lib/python3.10/dist-packages (from ipython<9->ipympl) (0.2.0)\n",
            "Requirement already satisfied: matplotlib-inline in /usr/local/lib/python3.10/dist-packages (from ipython<9->ipympl) (0.1.7)\n",
            "Requirement already satisfied: pexpect>4.3 in /usr/local/lib/python3.10/dist-packages (from ipython<9->ipympl) (4.9.0)\n",
            "Requirement already satisfied: ipykernel>=4.5.1 in /usr/local/lib/python3.10/dist-packages (from ipywidgets<9,>=7.6.0->ipympl) (5.5.6)\n",
            "Requirement already satisfied: widgetsnbextension~=3.6.0 in /usr/local/lib/python3.10/dist-packages (from ipywidgets<9,>=7.6.0->ipympl) (3.6.6)\n",
            "Requirement already satisfied: jupyterlab-widgets>=1.0.0 in /usr/local/lib/python3.10/dist-packages (from ipywidgets<9,>=7.6.0->ipympl) (3.0.10)\n",
            "Requirement already satisfied: contourpy>=1.0.1 in /usr/local/lib/python3.10/dist-packages (from matplotlib<4,>=3.4.0->ipympl) (1.2.1)\n",
            "Requirement already satisfied: cycler>=0.10 in /usr/local/lib/python3.10/dist-packages (from matplotlib<4,>=3.4.0->ipympl) (0.12.1)\n",
            "Requirement already satisfied: fonttools>=4.22.0 in /usr/local/lib/python3.10/dist-packages (from matplotlib<4,>=3.4.0->ipympl) (4.51.0)\n",
            "Requirement already satisfied: kiwisolver>=1.0.1 in /usr/local/lib/python3.10/dist-packages (from matplotlib<4,>=3.4.0->ipympl) (1.4.5)\n",
            "Requirement already satisfied: packaging>=20.0 in /usr/local/lib/python3.10/dist-packages (from matplotlib<4,>=3.4.0->ipympl) (24.0)\n",
            "Requirement already satisfied: pyparsing>=2.3.1 in /usr/local/lib/python3.10/dist-packages (from matplotlib<4,>=3.4.0->ipympl) (3.1.2)\n",
            "Requirement already satisfied: python-dateutil>=2.7 in /usr/local/lib/python3.10/dist-packages (from matplotlib<4,>=3.4.0->ipympl) (2.8.2)\n",
            "Requirement already satisfied: jupyter-client in /usr/local/lib/python3.10/dist-packages (from ipykernel>=4.5.1->ipywidgets<9,>=7.6.0->ipympl) (6.1.12)\n",
            "Requirement already satisfied: tornado>=4.2 in /usr/local/lib/python3.10/dist-packages (from ipykernel>=4.5.1->ipywidgets<9,>=7.6.0->ipympl) (6.3.3)\n",
            "Requirement already satisfied: parso<0.9.0,>=0.8.3 in /usr/local/lib/python3.10/dist-packages (from jedi>=0.16->ipython<9->ipympl) (0.8.4)\n",
            "Requirement already satisfied: ptyprocess>=0.5 in /usr/local/lib/python3.10/dist-packages (from pexpect>4.3->ipython<9->ipympl) (0.7.0)\n",
            "Requirement already satisfied: wcwidth in /usr/local/lib/python3.10/dist-packages (from prompt-toolkit!=3.0.0,!=3.0.1,<3.1.0,>=2.0.0->ipython<9->ipympl) (0.2.13)\n",
            "Requirement already satisfied: six>=1.5 in /usr/local/lib/python3.10/dist-packages (from python-dateutil>=2.7->matplotlib<4,>=3.4.0->ipympl) (1.16.0)\n",
            "Requirement already satisfied: notebook>=4.4.1 in /usr/local/lib/python3.10/dist-packages (from widgetsnbextension~=3.6.0->ipywidgets<9,>=7.6.0->ipympl) (6.5.5)\n",
            "Requirement already satisfied: jinja2 in /usr/local/lib/python3.10/dist-packages (from notebook>=4.4.1->widgetsnbextension~=3.6.0->ipywidgets<9,>=7.6.0->ipympl) (3.1.4)\n",
            "Requirement already satisfied: pyzmq<25,>=17 in /usr/local/lib/python3.10/dist-packages (from notebook>=4.4.1->widgetsnbextension~=3.6.0->ipywidgets<9,>=7.6.0->ipympl) (24.0.1)\n",
            "Requirement already satisfied: argon2-cffi in /usr/local/lib/python3.10/dist-packages (from notebook>=4.4.1->widgetsnbextension~=3.6.0->ipywidgets<9,>=7.6.0->ipympl) (23.1.0)\n",
            "Requirement already satisfied: jupyter-core>=4.6.1 in /usr/local/lib/python3.10/dist-packages (from notebook>=4.4.1->widgetsnbextension~=3.6.0->ipywidgets<9,>=7.6.0->ipympl) (5.7.2)\n",
            "Requirement already satisfied: nbformat in /usr/local/lib/python3.10/dist-packages (from notebook>=4.4.1->widgetsnbextension~=3.6.0->ipywidgets<9,>=7.6.0->ipympl) (5.10.4)\n",
            "Requirement already satisfied: nbconvert>=5 in /usr/local/lib/python3.10/dist-packages (from notebook>=4.4.1->widgetsnbextension~=3.6.0->ipywidgets<9,>=7.6.0->ipympl) (6.5.4)\n",
            "Requirement already satisfied: nest-asyncio>=1.5 in /usr/local/lib/python3.10/dist-packages (from notebook>=4.4.1->widgetsnbextension~=3.6.0->ipywidgets<9,>=7.6.0->ipympl) (1.6.0)\n",
            "Requirement already satisfied: Send2Trash>=1.8.0 in /usr/local/lib/python3.10/dist-packages (from notebook>=4.4.1->widgetsnbextension~=3.6.0->ipywidgets<9,>=7.6.0->ipympl) (1.8.3)\n",
            "Requirement already satisfied: terminado>=0.8.3 in /usr/local/lib/python3.10/dist-packages (from notebook>=4.4.1->widgetsnbextension~=3.6.0->ipywidgets<9,>=7.6.0->ipympl) (0.18.1)\n",
            "Requirement already satisfied: prometheus-client in /usr/local/lib/python3.10/dist-packages (from notebook>=4.4.1->widgetsnbextension~=3.6.0->ipywidgets<9,>=7.6.0->ipympl) (0.20.0)\n",
            "Requirement already satisfied: nbclassic>=0.4.7 in /usr/local/lib/python3.10/dist-packages (from notebook>=4.4.1->widgetsnbextension~=3.6.0->ipywidgets<9,>=7.6.0->ipympl) (1.0.0)\n",
            "Requirement already satisfied: platformdirs>=2.5 in /usr/local/lib/python3.10/dist-packages (from jupyter-core>=4.6.1->notebook>=4.4.1->widgetsnbextension~=3.6.0->ipywidgets<9,>=7.6.0->ipympl) (4.2.2)\n",
            "Requirement already satisfied: jupyter-server>=1.8 in /usr/local/lib/python3.10/dist-packages (from nbclassic>=0.4.7->notebook>=4.4.1->widgetsnbextension~=3.6.0->ipywidgets<9,>=7.6.0->ipympl) (1.24.0)\n",
            "Requirement already satisfied: notebook-shim>=0.2.3 in /usr/local/lib/python3.10/dist-packages (from nbclassic>=0.4.7->notebook>=4.4.1->widgetsnbextension~=3.6.0->ipywidgets<9,>=7.6.0->ipympl) (0.2.4)\n",
            "Requirement already satisfied: lxml in /usr/local/lib/python3.10/dist-packages (from nbconvert>=5->notebook>=4.4.1->widgetsnbextension~=3.6.0->ipywidgets<9,>=7.6.0->ipympl) (4.9.4)\n",
            "Requirement already satisfied: beautifulsoup4 in /usr/local/lib/python3.10/dist-packages (from nbconvert>=5->notebook>=4.4.1->widgetsnbextension~=3.6.0->ipywidgets<9,>=7.6.0->ipympl) (4.12.3)\n",
            "Requirement already satisfied: bleach in /usr/local/lib/python3.10/dist-packages (from nbconvert>=5->notebook>=4.4.1->widgetsnbextension~=3.6.0->ipywidgets<9,>=7.6.0->ipympl) (6.1.0)\n",
            "Requirement already satisfied: defusedxml in /usr/local/lib/python3.10/dist-packages (from nbconvert>=5->notebook>=4.4.1->widgetsnbextension~=3.6.0->ipywidgets<9,>=7.6.0->ipympl) (0.7.1)\n",
            "Requirement already satisfied: entrypoints>=0.2.2 in /usr/local/lib/python3.10/dist-packages (from nbconvert>=5->notebook>=4.4.1->widgetsnbextension~=3.6.0->ipywidgets<9,>=7.6.0->ipympl) (0.4)\n",
            "Requirement already satisfied: jupyterlab-pygments in /usr/local/lib/python3.10/dist-packages (from nbconvert>=5->notebook>=4.4.1->widgetsnbextension~=3.6.0->ipywidgets<9,>=7.6.0->ipympl) (0.3.0)\n",
            "Requirement already satisfied: MarkupSafe>=2.0 in /usr/local/lib/python3.10/dist-packages (from nbconvert>=5->notebook>=4.4.1->widgetsnbextension~=3.6.0->ipywidgets<9,>=7.6.0->ipympl) (2.1.5)\n",
            "Requirement already satisfied: mistune<2,>=0.8.1 in /usr/local/lib/python3.10/dist-packages (from nbconvert>=5->notebook>=4.4.1->widgetsnbextension~=3.6.0->ipywidgets<9,>=7.6.0->ipympl) (0.8.4)\n",
            "Requirement already satisfied: nbclient>=0.5.0 in /usr/local/lib/python3.10/dist-packages (from nbconvert>=5->notebook>=4.4.1->widgetsnbextension~=3.6.0->ipywidgets<9,>=7.6.0->ipympl) (0.10.0)\n",
            "Requirement already satisfied: pandocfilters>=1.4.1 in /usr/local/lib/python3.10/dist-packages (from nbconvert>=5->notebook>=4.4.1->widgetsnbextension~=3.6.0->ipywidgets<9,>=7.6.0->ipympl) (1.5.1)\n",
            "Requirement already satisfied: tinycss2 in /usr/local/lib/python3.10/dist-packages (from nbconvert>=5->notebook>=4.4.1->widgetsnbextension~=3.6.0->ipywidgets<9,>=7.6.0->ipympl) (1.3.0)\n",
            "Requirement already satisfied: fastjsonschema>=2.15 in /usr/local/lib/python3.10/dist-packages (from nbformat->notebook>=4.4.1->widgetsnbextension~=3.6.0->ipywidgets<9,>=7.6.0->ipympl) (2.19.1)\n",
            "Requirement already satisfied: jsonschema>=2.6 in /usr/local/lib/python3.10/dist-packages (from nbformat->notebook>=4.4.1->widgetsnbextension~=3.6.0->ipywidgets<9,>=7.6.0->ipympl) (4.19.2)\n",
            "Requirement already satisfied: argon2-cffi-bindings in /usr/local/lib/python3.10/dist-packages (from argon2-cffi->notebook>=4.4.1->widgetsnbextension~=3.6.0->ipywidgets<9,>=7.6.0->ipympl) (21.2.0)\n",
            "Requirement already satisfied: attrs>=22.2.0 in /usr/local/lib/python3.10/dist-packages (from jsonschema>=2.6->nbformat->notebook>=4.4.1->widgetsnbextension~=3.6.0->ipywidgets<9,>=7.6.0->ipympl) (23.2.0)\n",
            "Requirement already satisfied: jsonschema-specifications>=2023.03.6 in /usr/local/lib/python3.10/dist-packages (from jsonschema>=2.6->nbformat->notebook>=4.4.1->widgetsnbextension~=3.6.0->ipywidgets<9,>=7.6.0->ipympl) (2023.12.1)\n",
            "Requirement already satisfied: referencing>=0.28.4 in /usr/local/lib/python3.10/dist-packages (from jsonschema>=2.6->nbformat->notebook>=4.4.1->widgetsnbextension~=3.6.0->ipywidgets<9,>=7.6.0->ipympl) (0.35.1)\n",
            "Requirement already satisfied: rpds-py>=0.7.1 in /usr/local/lib/python3.10/dist-packages (from jsonschema>=2.6->nbformat->notebook>=4.4.1->widgetsnbextension~=3.6.0->ipywidgets<9,>=7.6.0->ipympl) (0.18.1)\n",
            "Requirement already satisfied: anyio<4,>=3.1.0 in /usr/local/lib/python3.10/dist-packages (from jupyter-server>=1.8->nbclassic>=0.4.7->notebook>=4.4.1->widgetsnbextension~=3.6.0->ipywidgets<9,>=7.6.0->ipympl) (3.7.1)\n",
            "Requirement already satisfied: websocket-client in /usr/local/lib/python3.10/dist-packages (from jupyter-server>=1.8->nbclassic>=0.4.7->notebook>=4.4.1->widgetsnbextension~=3.6.0->ipywidgets<9,>=7.6.0->ipympl) (1.8.0)\n",
            "Requirement already satisfied: cffi>=1.0.1 in /usr/local/lib/python3.10/dist-packages (from argon2-cffi-bindings->argon2-cffi->notebook>=4.4.1->widgetsnbextension~=3.6.0->ipywidgets<9,>=7.6.0->ipympl) (1.16.0)\n",
            "Requirement already satisfied: soupsieve>1.2 in /usr/local/lib/python3.10/dist-packages (from beautifulsoup4->nbconvert>=5->notebook>=4.4.1->widgetsnbextension~=3.6.0->ipywidgets<9,>=7.6.0->ipympl) (2.5)\n",
            "Requirement already satisfied: webencodings in /usr/local/lib/python3.10/dist-packages (from bleach->nbconvert>=5->notebook>=4.4.1->widgetsnbextension~=3.6.0->ipywidgets<9,>=7.6.0->ipympl) (0.5.1)\n",
            "Requirement already satisfied: idna>=2.8 in /usr/local/lib/python3.10/dist-packages (from anyio<4,>=3.1.0->jupyter-server>=1.8->nbclassic>=0.4.7->notebook>=4.4.1->widgetsnbextension~=3.6.0->ipywidgets<9,>=7.6.0->ipympl) (3.7)\n",
            "Requirement already satisfied: sniffio>=1.1 in /usr/local/lib/python3.10/dist-packages (from anyio<4,>=3.1.0->jupyter-server>=1.8->nbclassic>=0.4.7->notebook>=4.4.1->widgetsnbextension~=3.6.0->ipywidgets<9,>=7.6.0->ipympl) (1.3.1)\n",
            "Requirement already satisfied: exceptiongroup in /usr/local/lib/python3.10/dist-packages (from anyio<4,>=3.1.0->jupyter-server>=1.8->nbclassic>=0.4.7->notebook>=4.4.1->widgetsnbextension~=3.6.0->ipywidgets<9,>=7.6.0->ipympl) (1.2.1)\n",
            "Requirement already satisfied: pycparser in /usr/local/lib/python3.10/dist-packages (from cffi>=1.0.1->argon2-cffi-bindings->argon2-cffi->notebook>=4.4.1->widgetsnbextension~=3.6.0->ipywidgets<9,>=7.6.0->ipympl) (2.22)\n",
            "Installing collected packages: jedi, ipympl\n",
            "Successfully installed ipympl-0.9.4 jedi-0.19.1\n"
          ]
        }
      ]
    },
    {
      "cell_type": "markdown",
      "id": "31e6e841",
      "metadata": {
        "id": "31e6e841"
      },
      "source": [
        "Import supporting libraries"
      ]
    },
    {
      "cell_type": "code",
      "execution_count": 29,
      "id": "96af85d2",
      "metadata": {
        "id": "96af85d2"
      },
      "outputs": [],
      "source": [
        "# imports\n",
        "from google.colab import output\n",
        "output.enable_custom_widget_manager()\n",
        "\n",
        "import numpy as np\n",
        "import matplotlib.pyplot as plt\n",
        "from matplotlib import cm\n",
        "from itertools import combinations_with_replacement as cwr\n",
        "from functools import reduce\n",
        "import sys\n",
        "import json\n",
        "import ipywidgets as widgets\n"
      ]
    },
    {
      "cell_type": "markdown",
      "id": "59449c4a",
      "metadata": {
        "id": "59449c4a"
      },
      "source": [
        "Choose $k$, the number of particle types; i.e. the random graph will be $k$-partite."
      ]
    },
    {
      "cell_type": "code",
      "execution_count": 20,
      "id": "1df34a5b",
      "metadata": {
        "id": "1df34a5b"
      },
      "outputs": [],
      "source": [
        "k = 4;\n",
        "assert k == 4, f\"Interaction strength matrix is not defined for k = {k}\""
      ]
    },
    {
      "cell_type": "markdown",
      "id": "ffa06db5",
      "metadata": {
        "id": "ffa06db5"
      },
      "source": [
        "### Creating helper functions"
      ]
    },
    {
      "cell_type": "markdown",
      "id": "248fdcc9",
      "metadata": {
        "jp-MarkdownHeadingCollapsed": true,
        "id": "248fdcc9"
      },
      "source": [
        "#### Factorial computation"
      ]
    },
    {
      "cell_type": "code",
      "execution_count": 21,
      "id": "26df06f7",
      "metadata": {
        "id": "26df06f7"
      },
      "outputs": [],
      "source": [
        "def factorial(n: int):\n",
        "  assert isinstance(n, int), f\"Factorial function only accepts integer inputs.\\n(Received {type(n)})\";\n",
        "  if n < 0: return np.nan;\n",
        "  return 1 if ((n==1)|(n==0)) else n*factorial(n-1);"
      ]
    },
    {
      "cell_type": "markdown",
      "id": "ccb05456",
      "metadata": {
        "id": "ccb05456"
      },
      "source": [
        "#### Define function $f(p,x)$ for each summand $\\{x: \\langle x | 1 \\rangle = n \\}$"
      ]
    },
    {
      "cell_type": "code",
      "execution_count": 22,
      "id": "8ac9b3e5-6329-4b9f-9834-2b4c606a9440",
      "metadata": {
        "id": "8ac9b3e5-6329-4b9f-9834-2b4c606a9440"
      },
      "outputs": [],
      "source": [
        "def eff(x: np.ndarray, V: np.ndarray):\n",
        "  xm = [float(num) for num in x - 1];\n",
        "  y = np.matmul(V, x)**np.array(xm)\n",
        "\n",
        "  # compute product of components of y\n",
        "  eff = reduce(\n",
        "      lambda a,b: a*b,\n",
        "      y,\n",
        "      1\n",
        "    )\n",
        "\n",
        "  return eff;"
      ]
    },
    {
      "cell_type": "markdown",
      "id": "d75397ff-0010-474a-b215-1d2ff24d90cf",
      "metadata": {
        "id": "d75397ff-0010-474a-b215-1d2ff24d90cf"
      },
      "source": [
        "Create summand function"
      ]
    },
    {
      "cell_type": "code",
      "execution_count": 23,
      "id": "ec234dc3",
      "metadata": {
        "id": "ec234dc3"
      },
      "outputs": [],
      "source": [
        "def summand(x: np.ndarray, V: np.ndarray):\n",
        "\n",
        "  # compute product of powers of components of V*x\n",
        "  f = eff(x,V);\n",
        "\n",
        "  # compute leading constant numerator\n",
        "  c0 = factorial(int(x.sum()));\n",
        "\n",
        "  # compute denominator, x! = x_1! * x_2! * ... * x_k!\n",
        "  c1 = reduce(\n",
        "      lambda a,b: a*b,\n",
        "      map(\n",
        "        lambda en: factorial(int(en)),\n",
        "        x\n",
        "      ),\n",
        "      1\n",
        "    )\n",
        "\n",
        "  return c0 * f / c1;"
      ]
    },
    {
      "cell_type": "markdown",
      "id": "c9c89e56",
      "metadata": {
        "jp-MarkdownHeadingCollapsed": true,
        "id": "c9c89e56"
      },
      "source": [
        "#### Compute partitions"
      ]
    },
    {
      "cell_type": "code",
      "execution_count": 24,
      "id": "28646c5e",
      "metadata": {
        "id": "28646c5e"
      },
      "outputs": [],
      "source": [
        "def get_partitions(n, k):\n",
        "  '''\n",
        "  number of ways to designate your n particles into k urns:\n",
        "  place k-1 separators among/around the ordered n particles (n+1 choices)\n",
        "  the particles above the highest separator are urn 1 members,\n",
        "  the particles between the first & second sep are in urn 2, ...\n",
        "  the placement of separators is done by choosing one of the n+1 spaces k-1 times\n",
        "  with replacement and without regard to order; use the itertools function for this.\n",
        "  '''\n",
        "  raw_parts = list(\n",
        "      cwr(np.arange(0, n+1), k-1)\n",
        "    ) # weak\n",
        "\n",
        "    # first bin:  rp[0]\n",
        "    # middle bins:  np.diff(rp)\n",
        "    # final bin:  n - rp[-1]\n",
        "\n",
        "  # would be nice to perform this process using map, not listing\n",
        "  out = np.empty((len(raw_parts), k));\n",
        "  for ent, y in enumerate(raw_parts):\n",
        "    out[ent, :] = [y[0]] + np.diff(y).tolist() + [n-y[-1]]\n",
        "\n",
        "  return out;"
      ]
    },
    {
      "cell_type": "markdown",
      "id": "3c15f043",
      "metadata": {
        "jp-MarkdownHeadingCollapsed": true,
        "id": "3c15f043"
      },
      "source": [
        "#### Code for generating LHS of (23)"
      ]
    },
    {
      "cell_type": "code",
      "execution_count": null,
      "id": "1a0a6e6b",
      "metadata": {
        "id": "1a0a6e6b"
      },
      "outputs": [],
      "source": [
        "def compute_lhs(n, k, V):\n",
        "  lhs = 0;\n",
        "  for x in get_partitions(n,k):\n",
        "    lhs += summand(x, V)\n",
        "  return lhs;"
      ]
    },
    {
      "cell_type": "markdown",
      "id": "7ee591f8",
      "metadata": {
        "jp-MarkdownHeadingCollapsed": true,
        "id": "7ee591f8"
      },
      "source": [
        "#### Code for generating RHS of (23)"
      ]
    },
    {
      "cell_type": "code",
      "execution_count": 25,
      "id": "63bb78c5",
      "metadata": {
        "id": "63bb78c5"
      },
      "outputs": [],
      "source": [
        "def compute_rhs(n,k):\n",
        "  rhs = k * (k-1)**(n-1) * n**(n-4)\n",
        "  return rhs;"
      ]
    },
    {
      "cell_type": "markdown",
      "id": "b8ac5fcc-fc48-4420-ad72-b9d15c8e48ce",
      "metadata": {
        "id": "b8ac5fcc-fc48-4420-ad72-b9d15c8e48ce"
      },
      "source": [
        "## Plotting"
      ]
    },
    {
      "cell_type": "markdown",
      "id": "971a5cc4-9021-4759-8ea5-4665422c949d",
      "metadata": {
        "jp-MarkdownHeadingCollapsed": true,
        "id": "971a5cc4-9021-4759-8ea5-4665422c949d"
      },
      "source": [
        "### Surface plot"
      ]
    },
    {
      "cell_type": "markdown",
      "id": "d3e3f71a",
      "metadata": {
        "id": "d3e3f71a"
      },
      "source": [
        "Now we get into actually computing the quantities of interest. Resolution manages the resolution of the surface plot below."
      ]
    },
    {
      "cell_type": "code",
      "execution_count": 9,
      "id": "f12e96aa",
      "metadata": {
        "id": "f12e96aa"
      },
      "outputs": [],
      "source": [
        "# resolution of the 2-d plots\n",
        "resolution = 50"
      ]
    },
    {
      "cell_type": "markdown",
      "id": "bb016ed1",
      "metadata": {
        "id": "bb016ed1"
      },
      "source": [
        "Begin by defining the parameters $n$ (total number of particles / nodes in the graph), $p$, $q$, and $r$ (the inter-group interaction strength parameters)\n",
        "We define now the domain for the independent, nonconstant variables:"
      ]
    },
    {
      "cell_type": "code",
      "execution_count": 10,
      "id": "16dcd8a9",
      "metadata": {
        "id": "16dcd8a9"
      },
      "outputs": [],
      "source": [
        "lower_bound = 0.5;\n",
        "upper_bound = 20;\n",
        "\n",
        "domain_x = np.linspace(lower_bound, upper_bound, resolution);\n",
        "domain_y = np.linspace(lower_bound, upper_bound, resolution);\n",
        "\n",
        "[X,Y] = np.meshgrid(domain_x, domain_y)\n",
        "F = np.zeros(X.shape)"
      ]
    },
    {
      "cell_type": "markdown",
      "id": "7dc76ba2-2626-4540-a650-37708218019a",
      "metadata": {
        "id": "7dc76ba2-2626-4540-a650-37708218019a"
      },
      "source": [
        "Enable and generate widgets"
      ]
    },
    {
      "cell_type": "code",
      "execution_count": 26,
      "id": "ae8b2dba-8888-431a-bbe7-0ca00f7a8ade",
      "metadata": {
        "id": "ae8b2dba-8888-431a-bbe7-0ca00f7a8ade"
      },
      "outputs": [],
      "source": [
        "%matplotlib widget\n",
        "\n",
        "p_slider = widgets.FloatSlider(\n",
        "    value=1,\n",
        "    min=lower_bound,\n",
        "    max=upper_bound,\n",
        "    step=0.1,\n",
        "    description='p:',\n",
        "    disabled=False,\n",
        "    continuous_update=False,\n",
        "    orientation='horizontal',\n",
        "    readout=True,\n",
        "    readout_format='.1f',\n",
        ")\n",
        "\n",
        "q_slider = widgets.FloatSlider(\n",
        "    value=1,\n",
        "    min=lower_bound,\n",
        "    max=upper_bound,\n",
        "    step=0.1,\n",
        "    description='q:',\n",
        "    disabled=False,\n",
        "    continuous_update=False,\n",
        "    orientation='horizontal',\n",
        "    readout=True,\n",
        "    readout_format='.1f',\n",
        ")\n",
        "\n",
        "r_slider = widgets.FloatSlider(\n",
        "    value=1,\n",
        "    min=lower_bound,\n",
        "    max=upper_bound,\n",
        "    step=0.1,\n",
        "    description='r:',\n",
        "    disabled=False,\n",
        "    continuous_update=False,\n",
        "    orientation='horizontal',\n",
        "    readout=True,\n",
        "    readout_format='.1f',\n",
        ")\n",
        "\n",
        "n_slider = widgets.IntSlider(\n",
        "    value=2,\n",
        "    min=1,\n",
        "    max=20,\n",
        "    step=1,\n",
        "    description='n value:',\n",
        "    continuous_update=False,\n",
        "    orientation='horizontal',\n",
        "    readout=True,\n",
        "    readout_format='d'\n",
        ")\n"
      ]
    },
    {
      "cell_type": "markdown",
      "id": "eb238c39",
      "metadata": {
        "id": "eb238c39"
      },
      "source": [
        "Compute the interaction strength matrix, then execute the computation steps.\n",
        "\n",
        "#### Notice that the output matrix $F$ is the ratio fo the left- and right-hand sides of (24):"
      ]
    },
    {
      "cell_type": "code",
      "execution_count": 30,
      "id": "8da68334",
      "metadata": {
        "id": "8da68334"
      },
      "outputs": [],
      "source": [
        "\n",
        "def run_plot(n,var3):\n",
        "    global F\n",
        "\n",
        "    r = var3;\n",
        "    for eye, p in enumerate(domain_x):\n",
        "      for jay, q in enumerate(domain_y):\n",
        "        V = np.array([\n",
        "          [0, p, q, r],\n",
        "          [p, 0, r, q],\n",
        "          [q, r, 0, p],\n",
        "          [r, q, p, 0]\n",
        "        ])\n",
        "\n",
        "        G = compute_lhs(n,k,V)\n",
        "        H = compute_rhs(n,k)\n",
        "        F[eye, jay] = G/H;\n",
        "\n",
        "    fig, ax = plt.subplots(subplot_kw={\"projection\": \"3d\"})\n",
        "    surf = ax.plot_surface(X, Y, F, cmap=cm.coolwarm,\n",
        "                           linewidth=0, antialiased=False)\n",
        "\n",
        "    ax.set_title(f\"k={k}, n={n}\\nG(p, q, {r})/H\")\n",
        "    plt.show()"
      ]
    },
    {
      "cell_type": "markdown",
      "id": "59f1348e",
      "metadata": {
        "id": "59f1348e"
      },
      "source": [
        "We plot here the results:"
      ]
    },
    {
      "cell_type": "code",
      "execution_count": 31,
      "id": "342a48b0-f799-4c74-9a2b-9338eac423b3",
      "metadata": {
        "id": "342a48b0-f799-4c74-9a2b-9338eac423b3",
        "outputId": "47d9213e-aa27-4994-e26d-81138f673338",
        "colab": {
          "base_uri": "https://localhost:8080/",
          "height": 720,
          "referenced_widgets": [
            "70a252dd9cfc42e4a666f97cfc188439",
            "c372f2656d4641ffab3b642d4ff5d4f8",
            "4015ec204bb74345ae518df5aa85d802",
            "a4b408c4af7d48cdbfc53853d4cff1d0",
            "85f28ab276724a6cb80a21b5a384b16b",
            "af6f5fac67234a18bb16ddccba7d5a0d",
            "de17576750d44c7bb5a211458d87eea2",
            "8185046326ce47d5aba003dc1eda06ae",
            "f8616c270e51401cb5de5b6015d1befb",
            "52886dfb07cb47359faaec68f007cc67",
            "9379a38f895245b1b5b3c53e5670fbfd",
            "186e16d100774be3a1a7ebd6cef08947",
            "075dc5424369487487b10806700acff5",
            "5c5b9c1a1108422d87e51dff802a08f3"
          ]
        }
      },
      "outputs": [
        {
          "output_type": "display_data",
          "data": {
            "text/plain": [
              "interactive(children=(IntSlider(value=5, continuous_update=False, description='n value:', max=20, min=1), Floa…"
            ],
            "application/vnd.jupyter.widget-view+json": {
              "version_major": 2,
              "version_minor": 0,
              "model_id": "70a252dd9cfc42e4a666f97cfc188439"
            }
          },
          "metadata": {
            "application/vnd.jupyter.widget-view+json": {
              "colab": {
                "custom_widget_manager": {
                  "url": "https://ssl.gstatic.com/colaboratory-static/widgets/colab-cdn-widget-manager/2b70e893a8ba7c0f/manager.min.js"
                }
              }
            }
          }
        },
        {
          "output_type": "execute_result",
          "data": {
            "text/plain": [
              "<function __main__.run_plot(n, var3)>"
            ],
            "text/html": [
              "<div style=\"max-width:800px; border: 1px solid var(--colab-border-color);\"><style>\n",
              "      pre.function-repr-contents {\n",
              "        overflow-x: auto;\n",
              "        padding: 8px 12px;\n",
              "        max-height: 500px;\n",
              "      }\n",
              "\n",
              "      pre.function-repr-contents.function-repr-contents-collapsed {\n",
              "        cursor: pointer;\n",
              "        max-height: 100px;\n",
              "      }\n",
              "    </style>\n",
              "    <pre style=\"white-space: initial; background:\n",
              "         var(--colab-secondary-surface-color); padding: 8px 12px;\n",
              "         border-bottom: 1px solid var(--colab-border-color);\"><b>run_plot</b><br/>def run_plot(n, var3)</pre><pre class=\"function-repr-contents function-repr-contents-collapsed\" style=\"\"><a class=\"filepath\" style=\"display:none\" href=\"#\">/content/&lt;ipython-input-30-1fdf39be4f01&gt;</a>&lt;no docstring&gt;</pre></div>"
            ]
          },
          "metadata": {},
          "execution_count": 31
        }
      ],
      "source": [
        "widgets.interact(run_plot, n=n_slider, var3=r_slider)"
      ]
    },
    {
      "cell_type": "markdown",
      "id": "e5197535-ffcf-4189-9386-c7d1f80e7116",
      "metadata": {
        "id": "e5197535-ffcf-4189-9386-c7d1f80e7116"
      },
      "source": [
        "## Computing sums of $f(p, x)$ and $f(\\bar{p}, x)$"
      ]
    },
    {
      "cell_type": "markdown",
      "id": "e7cd5c53-86b4-404d-99d7-0afeb4d4565c",
      "metadata": {
        "id": "e7cd5c53-86b4-404d-99d7-0afeb4d4565c"
      },
      "source": [
        "The function `summand` above computes $f(p,x)$ where $V$ is given as a function of $p$, $q$, and $r$."
      ]
    },
    {
      "cell_type": "markdown",
      "id": "9a7b0eeb-c3f1-466e-93a7-71b133f9818b",
      "metadata": {
        "id": "9a7b0eeb-c3f1-466e-93a7-71b133f9818b"
      },
      "source": [
        "We can compute $f(\\bar{p},x)$ as well by passing in $\\mathbb{1}_k * \\mathbb{1}_k^T - I_k$ in place of $V$ and prepending a factor of $\\left(\\frac{p+q+r}{3}\\right)^{n-4}$:"
      ]
    },
    {
      "cell_type": "markdown",
      "id": "dbcca4fd-9414-4621-8364-2943323fbce4",
      "metadata": {
        "id": "dbcca4fd-9414-4621-8364-2943323fbce4"
      },
      "source": [
        "### Adding helper functions for $f(\\bar{p}, x)$"
      ]
    },
    {
      "cell_type": "markdown",
      "id": "3378b7d3-6a3b-4e5a-88d8-ffc3c21ffe24",
      "metadata": {
        "id": "3378b7d3-6a3b-4e5a-88d8-ffc3c21ffe24"
      },
      "source": [
        "Compute $f(\\bar{p}, x)$"
      ]
    },
    {
      "cell_type": "code",
      "execution_count": 32,
      "id": "0caf3ad6-d4e3-4def-a53c-7c5c64873653",
      "metadata": {
        "id": "0caf3ad6-d4e3-4def-a53c-7c5c64873653"
      },
      "outputs": [],
      "source": [
        "def eff_bar(x: np.ndarray, p, q, r):\n",
        "  C = np.mean([p, q, r]);\n",
        "  f = eff(x, np.ones((k,k)) - np.eye(k));\n",
        "  f_bar = C**(np.sum(x) - 4.0) * f;\n",
        "  return f_bar;\n",
        "\n",
        "def summand_bar(x, p, q, r):\n",
        "  f_bar = eff_bar(x,p,q,r);\n",
        "\n",
        "  # compute leading constant numerator\n",
        "  c0 = factorial(int(x.sum()));\n",
        "\n",
        "  # compute denominator, x! = x_1! * x_2! * ... * x_k!\n",
        "  c1 = reduce(\n",
        "      lambda a,b: a*b,\n",
        "      map(\n",
        "        lambda en: factorial(int(en)),\n",
        "        x\n",
        "      ),\n",
        "      1\n",
        "    )\n",
        "\n",
        "  return c0 * f_bar / c1;"
      ]
    },
    {
      "cell_type": "markdown",
      "id": "5f93e6bc-f59a-4669-a68f-b4aa7503f6c0",
      "metadata": {
        "id": "5f93e6bc-f59a-4669-a68f-b4aa7503f6c0"
      },
      "source": [
        "Define the plot"
      ]
    },
    {
      "cell_type": "code",
      "execution_count": 33,
      "id": "054305c5-7156-4bc8-9f8d-1171f69f0e47",
      "metadata": {
        "id": "054305c5-7156-4bc8-9f8d-1171f69f0e47"
      },
      "outputs": [],
      "source": [
        "def eff_vs_eff_bar(var1, var2, var3):\n",
        "\n",
        "    [p, q, r] = var1, var2, var3;\n",
        "    V = np.array([\n",
        "      [0, p, q, r],\n",
        "      [p, 0, r, q],\n",
        "      [q, r, 0, p],\n",
        "      [r, q, p, 0]\n",
        "    ])\n",
        "\n",
        "    n_domain = np.arange(1, 10);\n",
        "    series1 = np.zeros(n_domain.shape);\n",
        "    series2 = np.zeros(n_domain.shape);\n",
        "    for ent, n in enumerate(n_domain):\n",
        "        summa = 0; # sum of f(p,x)\n",
        "        sum_bar = 0; # sum of f(p-bar, x)\n",
        "        for x in get_partitions(n,k):\n",
        "            # compute denominator, x! = x_1! * x_2! * ... * x_k!\n",
        "            c1 = reduce(\n",
        "              lambda a,b: a*b,\n",
        "              map(\n",
        "                lambda en: factorial(int(en)),\n",
        "                x\n",
        "              ),\n",
        "              1\n",
        "            )\n",
        "\n",
        "            summa += eff(x, V) / c1;\n",
        "            sum_bar += eff_bar(x, p, q, r) / c1;\n",
        "\n",
        "        # record results, normalizing by n!\n",
        "        series1[ent] = summa;\n",
        "        series2[ent] = sum_bar;\n",
        "\n",
        "    # plot the two series\n",
        "    fig, ax = plt.subplots()\n",
        "    ax.scatter(n_domain, series1, color=\"tab:blue\")\n",
        "    ax.set_yscale('log')\n",
        "\n",
        "    ax.set_title(f\"k={k}\\n(p,q,r) = ({p},{q},{r})\")\n",
        "    ax.set_xlabel(\"n\")\n",
        "    ax.set_ylabel(\"f(p,x)\", color=\"blue\")\n",
        "    # ax.xaxis.label.set_color('red')\n",
        "\n",
        "    ax.tick_params(axis='y')\n",
        "\n",
        "    ax2 = ax.twinx();\n",
        "    # ax2.scatter(n_domain, series2)\n",
        "    ax2.scatter(n_domain, series2, color=\"tab:orange\", marker=\"*\")\n",
        "    ax2.set_ylabel(\"f(p-bar, x)\", color=\"orange\")\n",
        "    ax2.set_yscale('log')\n",
        "\n",
        "    # comment this out to have independent y-axes\n",
        "    ax2.sharey(ax)\n",
        "\n",
        "    plt.show()"
      ]
    },
    {
      "cell_type": "markdown",
      "id": "b2b08a19-762b-4cc0-9327-1ad2aa1651ee",
      "metadata": {
        "id": "b2b08a19-762b-4cc0-9327-1ad2aa1651ee"
      },
      "source": [
        "### The plot"
      ]
    },
    {
      "cell_type": "code",
      "execution_count": 34,
      "id": "ed63d0b2-42a0-449b-a9af-c56589fca53e",
      "metadata": {
        "id": "ed63d0b2-42a0-449b-a9af-c56589fca53e",
        "outputId": "96e0ca80-bac8-49a0-934c-1c6341f3904a",
        "colab": {
          "base_uri": "https://localhost:8080/",
          "height": 752,
          "referenced_widgets": [
            "bb663b357df74135aa05ef32cabf8fec",
            "e5e6652a09094f4b815de3047715c117",
            "0b6bc75e20794df883970a532f17ce5a",
            "4015ec204bb74345ae518df5aa85d802",
            "a1cf380afbe9496da141ba746794b331",
            "9235b99ca0244cdf9df76c29996b48c5",
            "a4450ca576d24ca69e3272ffe4b59fec",
            "50110bd399474bdea7b4c778d3000db6",
            "230a7443b3d54cfd98efb3fdacec95be",
            "aff65f761f314f98ae39673985526bb2",
            "8185046326ce47d5aba003dc1eda06ae",
            "f8616c270e51401cb5de5b6015d1befb",
            "16215fc7cb9a4ec8ae607b2ac8a5dd59",
            "467b8fb706c043e899c0fd79e881b2da",
            "fe90d56ca74b467aa24e1fde793c3e68",
            "1da361a77b564c48a376a8024c6d4c0a",
            "656f639454604c3da66afa7ce0675fd6"
          ]
        }
      },
      "outputs": [
        {
          "output_type": "display_data",
          "data": {
            "text/plain": [
              "interactive(children=(FloatSlider(value=1.0, continuous_update=False, description='p:', max=20.0, min=0.5, rea…"
            ],
            "application/vnd.jupyter.widget-view+json": {
              "version_major": 2,
              "version_minor": 0,
              "model_id": "bb663b357df74135aa05ef32cabf8fec"
            }
          },
          "metadata": {
            "application/vnd.jupyter.widget-view+json": {
              "colab": {
                "custom_widget_manager": {
                  "url": "https://ssl.gstatic.com/colaboratory-static/widgets/colab-cdn-widget-manager/2b70e893a8ba7c0f/manager.min.js"
                }
              }
            }
          }
        },
        {
          "output_type": "execute_result",
          "data": {
            "text/plain": [
              "<function __main__.eff_vs_eff_bar(var1, var2, var3)>"
            ],
            "text/html": [
              "<div style=\"max-width:800px; border: 1px solid var(--colab-border-color);\"><style>\n",
              "      pre.function-repr-contents {\n",
              "        overflow-x: auto;\n",
              "        padding: 8px 12px;\n",
              "        max-height: 500px;\n",
              "      }\n",
              "\n",
              "      pre.function-repr-contents.function-repr-contents-collapsed {\n",
              "        cursor: pointer;\n",
              "        max-height: 100px;\n",
              "      }\n",
              "    </style>\n",
              "    <pre style=\"white-space: initial; background:\n",
              "         var(--colab-secondary-surface-color); padding: 8px 12px;\n",
              "         border-bottom: 1px solid var(--colab-border-color);\"><b>eff_vs_eff_bar</b><br/>def eff_vs_eff_bar(var1, var2, var3)</pre><pre class=\"function-repr-contents function-repr-contents-collapsed\" style=\"\"><a class=\"filepath\" style=\"display:none\" href=\"#\">/content/&lt;ipython-input-33-7648e9c92077&gt;</a>&lt;no docstring&gt;</pre></div>"
            ]
          },
          "metadata": {},
          "execution_count": 34
        }
      ],
      "source": [
        "widgets.interact(eff_vs_eff_bar, var1=p_slider, var2=q_slider, var3=r_slider)"
      ]
    },
    {
      "cell_type": "code",
      "execution_count": null,
      "id": "98385d3a-5b7d-47c7-8f2f-21a1b7cb07a0",
      "metadata": {
        "id": "98385d3a-5b7d-47c7-8f2f-21a1b7cb07a0"
      },
      "outputs": [],
      "source": []
    }
  ],
  "metadata": {
    "kernelspec": {
      "display_name": "Python 3 (ipykernel)",
      "language": "python",
      "name": "python3"
    },
    "language_info": {
      "codemirror_mode": {
        "name": "ipython",
        "version": 3
      },
      "file_extension": ".py",
      "mimetype": "text/x-python",
      "name": "python",
      "nbconvert_exporter": "python",
      "pygments_lexer": "ipython3",
      "version": "3.12.3"
    },
    "colab": {
      "provenance": []
    },
    "widgets": {
      "application/vnd.jupyter.widget-state+json": {
        "70a252dd9cfc42e4a666f97cfc188439": {
          "model_module": "@jupyter-widgets/controls",
          "model_name": "VBoxModel",
          "model_module_version": "1.5.0",
          "state": {
            "_dom_classes": [
              "widget-interact"
            ],
            "_model_module": "@jupyter-widgets/controls",
            "_model_module_version": "1.5.0",
            "_model_name": "VBoxModel",
            "_view_count": null,
            "_view_module": "@jupyter-widgets/controls",
            "_view_module_version": "1.5.0",
            "_view_name": "VBoxView",
            "box_style": "",
            "children": [
              "IPY_MODEL_c372f2656d4641ffab3b642d4ff5d4f8",
              "IPY_MODEL_4015ec204bb74345ae518df5aa85d802",
              "IPY_MODEL_a4b408c4af7d48cdbfc53853d4cff1d0"
            ],
            "layout": "IPY_MODEL_85f28ab276724a6cb80a21b5a384b16b"
          }
        },
        "c372f2656d4641ffab3b642d4ff5d4f8": {
          "model_module": "@jupyter-widgets/controls",
          "model_name": "IntSliderModel",
          "model_module_version": "1.5.0",
          "state": {
            "_dom_classes": [],
            "_model_module": "@jupyter-widgets/controls",
            "_model_module_version": "1.5.0",
            "_model_name": "IntSliderModel",
            "_view_count": null,
            "_view_module": "@jupyter-widgets/controls",
            "_view_module_version": "1.5.0",
            "_view_name": "IntSliderView",
            "continuous_update": false,
            "description": "n value:",
            "description_tooltip": null,
            "disabled": false,
            "layout": "IPY_MODEL_af6f5fac67234a18bb16ddccba7d5a0d",
            "max": 20,
            "min": 1,
            "orientation": "horizontal",
            "readout": true,
            "readout_format": "d",
            "step": 1,
            "style": "IPY_MODEL_de17576750d44c7bb5a211458d87eea2",
            "value": 5
          }
        },
        "4015ec204bb74345ae518df5aa85d802": {
          "model_module": "@jupyter-widgets/controls",
          "model_name": "FloatSliderModel",
          "model_module_version": "1.5.0",
          "state": {
            "_dom_classes": [],
            "_model_module": "@jupyter-widgets/controls",
            "_model_module_version": "1.5.0",
            "_model_name": "FloatSliderModel",
            "_view_count": null,
            "_view_module": "@jupyter-widgets/controls",
            "_view_module_version": "1.5.0",
            "_view_name": "FloatSliderView",
            "continuous_update": false,
            "description": "r:",
            "description_tooltip": null,
            "disabled": false,
            "layout": "IPY_MODEL_8185046326ce47d5aba003dc1eda06ae",
            "max": 20,
            "min": 0.5,
            "orientation": "horizontal",
            "readout": true,
            "readout_format": ".1f",
            "step": 0.1,
            "style": "IPY_MODEL_f8616c270e51401cb5de5b6015d1befb",
            "value": 1
          }
        },
        "a4b408c4af7d48cdbfc53853d4cff1d0": {
          "model_module": "@jupyter-widgets/output",
          "model_name": "OutputModel",
          "model_module_version": "1.0.0",
          "state": {
            "_dom_classes": [],
            "_model_module": "@jupyter-widgets/output",
            "_model_module_version": "1.0.0",
            "_model_name": "OutputModel",
            "_view_count": null,
            "_view_module": "@jupyter-widgets/output",
            "_view_module_version": "1.0.0",
            "_view_name": "OutputView",
            "layout": "IPY_MODEL_52886dfb07cb47359faaec68f007cc67",
            "msg_id": "",
            "outputs": [
              {
                "output_type": "display_data",
                "data": {
                  "text/plain": "Canvas(toolbar=Toolbar(toolitems=[('Home', 'Reset original view', 'home', 'home'), ('Back', 'Back to previous …",
                  "image/png": "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",
                  "text/html": "\n            <div style=\"display: inline-block;\">\n                <div class=\"jupyter-widgets widget-label\" style=\"text-align: center;\">\n                    Figure\n                </div>\n                <img src='data:image/png;base64,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' width=640.0/>\n            </div>\n        ",
                  "application/vnd.jupyter.widget-view+json": {
                    "version_major": 2,
                    "version_minor": 0,
                    "model_id": "5c5b9c1a1108422d87e51dff802a08f3"
                  }
                },
                "metadata": {
                  "application/vnd.jupyter.widget-view+json": {
                    "colab": {
                      "custom_widget_manager": {
                        "url": "https://ssl.gstatic.com/colaboratory-static/widgets/colab-cdn-widget-manager/2b70e893a8ba7c0f/manager.min.js"
                      }
                    }
                  }
                }
              }
            ]
          }
        },
        "85f28ab276724a6cb80a21b5a384b16b": {
          "model_module": "@jupyter-widgets/base",
          "model_name": "LayoutModel",
          "model_module_version": "1.2.0",
          "state": {
            "_model_module": "@jupyter-widgets/base",
            "_model_module_version": "1.2.0",
            "_model_name": "LayoutModel",
            "_view_count": null,
            "_view_module": "@jupyter-widgets/base",
            "_view_module_version": "1.2.0",
            "_view_name": "LayoutView",
            "align_content": null,
            "align_items": null,
            "align_self": null,
            "border": null,
            "bottom": null,
            "display": null,
            "flex": null,
            "flex_flow": null,
            "grid_area": null,
            "grid_auto_columns": null,
            "grid_auto_flow": null,
            "grid_auto_rows": null,
            "grid_column": null,
            "grid_gap": null,
            "grid_row": null,
            "grid_template_areas": null,
            "grid_template_columns": null,
            "grid_template_rows": null,
            "height": null,
            "justify_content": null,
            "justify_items": null,
            "left": null,
            "margin": null,
            "max_height": null,
            "max_width": null,
            "min_height": null,
            "min_width": null,
            "object_fit": null,
            "object_position": null,
            "order": null,
            "overflow": null,
            "overflow_x": null,
            "overflow_y": null,
            "padding": null,
            "right": null,
            "top": null,
            "visibility": null,
            "width": null
          }
        },
        "af6f5fac67234a18bb16ddccba7d5a0d": {
          "model_module": "@jupyter-widgets/base",
          "model_name": "LayoutModel",
          "model_module_version": "1.2.0",
          "state": {
            "_model_module": "@jupyter-widgets/base",
            "_model_module_version": "1.2.0",
            "_model_name": "LayoutModel",
            "_view_count": null,
            "_view_module": "@jupyter-widgets/base",
            "_view_module_version": "1.2.0",
            "_view_name": "LayoutView",
            "align_content": null,
            "align_items": null,
            "align_self": null,
            "border": null,
            "bottom": null,
            "display": null,
            "flex": null,
            "flex_flow": null,
            "grid_area": null,
            "grid_auto_columns": null,
            "grid_auto_flow": null,
            "grid_auto_rows": null,
            "grid_column": null,
            "grid_gap": null,
            "grid_row": null,
            "grid_template_areas": null,
            "grid_template_columns": null,
            "grid_template_rows": null,
            "height": null,
            "justify_content": null,
            "justify_items": null,
            "left": null,
            "margin": null,
            "max_height": null,
            "max_width": null,
            "min_height": null,
            "min_width": null,
            "object_fit": null,
            "object_position": null,
            "order": null,
            "overflow": null,
            "overflow_x": null,
            "overflow_y": null,
            "padding": null,
            "right": null,
            "top": null,
            "visibility": null,
            "width": null
          }
        },
        "de17576750d44c7bb5a211458d87eea2": {
          "model_module": "@jupyter-widgets/controls",
          "model_name": "SliderStyleModel",
          "model_module_version": "1.5.0",
          "state": {
            "_model_module": "@jupyter-widgets/controls",
            "_model_module_version": "1.5.0",
            "_model_name": "SliderStyleModel",
            "_view_count": null,
            "_view_module": "@jupyter-widgets/base",
            "_view_module_version": "1.2.0",
            "_view_name": "StyleView",
            "description_width": "",
            "handle_color": null
          }
        },
        "8185046326ce47d5aba003dc1eda06ae": {
          "model_module": "@jupyter-widgets/base",
          "model_name": "LayoutModel",
          "model_module_version": "1.2.0",
          "state": {
            "_model_module": "@jupyter-widgets/base",
            "_model_module_version": "1.2.0",
            "_model_name": "LayoutModel",
            "_view_count": null,
            "_view_module": "@jupyter-widgets/base",
            "_view_module_version": "1.2.0",
            "_view_name": "LayoutView",
            "align_content": null,
            "align_items": null,
            "align_self": null,
            "border": null,
            "bottom": null,
            "display": null,
            "flex": null,
            "flex_flow": null,
            "grid_area": null,
            "grid_auto_columns": null,
            "grid_auto_flow": null,
            "grid_auto_rows": null,
            "grid_column": null,
            "grid_gap": null,
            "grid_row": null,
            "grid_template_areas": null,
            "grid_template_columns": null,
            "grid_template_rows": null,
            "height": null,
            "justify_content": null,
            "justify_items": null,
            "left": null,
            "margin": null,
            "max_height": null,
            "max_width": null,
            "min_height": null,
            "min_width": null,
            "object_fit": null,
            "object_position": null,
            "order": null,
            "overflow": null,
            "overflow_x": null,
            "overflow_y": null,
            "padding": null,
            "right": null,
            "top": null,
            "visibility": null,
            "width": null
          }
        },
        "f8616c270e51401cb5de5b6015d1befb": {
          "model_module": "@jupyter-widgets/controls",
          "model_name": "SliderStyleModel",
          "model_module_version": "1.5.0",
          "state": {
            "_model_module": "@jupyter-widgets/controls",
            "_model_module_version": "1.5.0",
            "_model_name": "SliderStyleModel",
            "_view_count": null,
            "_view_module": "@jupyter-widgets/base",
            "_view_module_version": "1.2.0",
            "_view_name": "StyleView",
            "description_width": "",
            "handle_color": null
          }
        },
        "52886dfb07cb47359faaec68f007cc67": {
          "model_module": "@jupyter-widgets/base",
          "model_name": "LayoutModel",
          "model_module_version": "1.2.0",
          "state": {
            "_model_module": "@jupyter-widgets/base",
            "_model_module_version": "1.2.0",
            "_model_name": "LayoutModel",
            "_view_count": null,
            "_view_module": "@jupyter-widgets/base",
            "_view_module_version": "1.2.0",
            "_view_name": "LayoutView",
            "align_content": null,
            "align_items": null,
            "align_self": null,
            "border": null,
            "bottom": null,
            "display": null,
            "flex": null,
            "flex_flow": null,
            "grid_area": null,
            "grid_auto_columns": null,
            "grid_auto_flow": null,
            "grid_auto_rows": null,
            "grid_column": null,
            "grid_gap": null,
            "grid_row": null,
            "grid_template_areas": null,
            "grid_template_columns": null,
            "grid_template_rows": null,
            "height": null,
            "justify_content": null,
            "justify_items": null,
            "left": null,
            "margin": null,
            "max_height": null,
            "max_width": null,
            "min_height": null,
            "min_width": null,
            "object_fit": null,
            "object_position": null,
            "order": null,
            "overflow": null,
            "overflow_x": null,
            "overflow_y": null,
            "padding": null,
            "right": null,
            "top": null,
            "visibility": null,
            "width": null
          }
        },
        "9379a38f895245b1b5b3c53e5670fbfd": {
          "model_module": "@jupyter-widgets/base",
          "model_name": "LayoutModel",
          "model_module_version": "1.2.0",
          "state": {
            "_model_module": "@jupyter-widgets/base",
            "_model_module_version": "1.2.0",
            "_model_name": "LayoutModel",
            "_view_count": null,
            "_view_module": "@jupyter-widgets/base",
            "_view_module_version": "1.2.0",
            "_view_name": "LayoutView",
            "align_content": null,
            "align_items": null,
            "align_self": null,
            "border": null,
            "bottom": null,
            "display": null,
            "flex": null,
            "flex_flow": null,
            "grid_area": null,
            "grid_auto_columns": null,
            "grid_auto_flow": null,
            "grid_auto_rows": null,
            "grid_column": null,
            "grid_gap": null,
            "grid_row": null,
            "grid_template_areas": null,
            "grid_template_columns": null,
            "grid_template_rows": null,
            "height": null,
            "justify_content": null,
            "justify_items": null,
            "left": null,
            "margin": null,
            "max_height": null,
            "max_width": null,
            "min_height": null,
            "min_width": null,
            "object_fit": null,
            "object_position": null,
            "order": null,
            "overflow": null,
            "overflow_x": null,
            "overflow_y": null,
            "padding": null,
            "right": null,
            "top": null,
            "visibility": null,
            "width": null
          }
        },
        "186e16d100774be3a1a7ebd6cef08947": {
          "model_module": "@jupyter-widgets/base",
          "model_name": "LayoutModel",
          "model_module_version": "1.2.0",
          "state": {
            "_model_module": "@jupyter-widgets/base",
            "_model_module_version": "1.2.0",
            "_model_name": "LayoutModel",
            "_view_count": null,
            "_view_module": "@jupyter-widgets/base",
            "_view_module_version": "1.2.0",
            "_view_name": "LayoutView",
            "align_content": null,
            "align_items": null,
            "align_self": null,
            "border": null,
            "bottom": null,
            "display": null,
            "flex": null,
            "flex_flow": null,
            "grid_area": null,
            "grid_auto_columns": null,
            "grid_auto_flow": null,
            "grid_auto_rows": null,
            "grid_column": null,
            "grid_gap": null,
            "grid_row": null,
            "grid_template_areas": null,
            "grid_template_columns": null,
            "grid_template_rows": null,
            "height": null,
            "justify_content": null,
            "justify_items": null,
            "left": null,
            "margin": null,
            "max_height": null,
            "max_width": null,
            "min_height": null,
            "min_width": null,
            "object_fit": null,
            "object_position": null,
            "order": null,
            "overflow": null,
            "overflow_x": null,
            "overflow_y": null,
            "padding": null,
            "right": null,
            "top": null,
            "visibility": null,
            "width": null
          }
        },
        "075dc5424369487487b10806700acff5": {
          "model_module": "jupyter-matplotlib",
          "model_name": "ToolbarModel",
          "model_module_version": "^0.11",
          "state": {
            "_current_action": "",
            "_dom_classes": [],
            "_model_module": "jupyter-matplotlib",
            "_model_module_version": "^0.11",
            "_model_name": "ToolbarModel",
            "_view_count": null,
            "_view_module": "jupyter-matplotlib",
            "_view_module_version": "^0.11",
            "_view_name": "ToolbarView",
            "button_style": "",
            "collapsed": true,
            "layout": "IPY_MODEL_186e16d100774be3a1a7ebd6cef08947",
            "orientation": "vertical",
            "toolitems": [
              [
                "Home",
                "Reset original view",
                "home",
                "home"
              ],
              [
                "Back",
                "Back to previous view",
                "arrow-left",
                "back"
              ],
              [
                "Forward",
                "Forward to next view",
                "arrow-right",
                "forward"
              ],
              [
                "Pan",
                "Left button pans, Right button zooms\nx/y fixes axis, CTRL fixes aspect",
                "arrows",
                "pan"
              ],
              [
                "Zoom",
                "Zoom to rectangle\nx/y fixes axis",
                "square-o",
                "zoom"
              ],
              [
                "Download",
                "Download plot",
                "floppy-o",
                "save_figure"
              ]
            ]
          }
        },
        "5c5b9c1a1108422d87e51dff802a08f3": {
          "model_module": "jupyter-matplotlib",
          "model_name": "MPLCanvasModel",
          "model_module_version": "^0.11",
          "state": {
            "_cursor": "default",
            "_data_url": "data:image/png;base64,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",
            "_dom_classes": [],
            "_figure_label": "Figure 3",
            "_image_mode": "diff",
            "_message": "x=0.9252, y=15.8875, z=−26.1405",
            "_model_module": "jupyter-matplotlib",
            "_model_module_version": "^0.11",
            "_model_name": "MPLCanvasModel",
            "_rubberband_height": 0,
            "_rubberband_width": 0,
            "_rubberband_x": 0,
            "_rubberband_y": 0,
            "_size": [
              640,
              480
            ],
            "_view_count": null,
            "_view_module": "jupyter-matplotlib",
            "_view_module_version": "^0.11",
            "_view_name": "MPLCanvasView",
            "capture_scroll": false,
            "footer_visible": true,
            "header_visible": true,
            "layout": "IPY_MODEL_9379a38f895245b1b5b3c53e5670fbfd",
            "pan_zoom_throttle": 33,
            "resizable": true,
            "toolbar": "IPY_MODEL_075dc5424369487487b10806700acff5",
            "toolbar_position": "left",
            "toolbar_visible": "fade-in-fade-out"
          }
        },
        "bb663b357df74135aa05ef32cabf8fec": {
          "model_module": "@jupyter-widgets/controls",
          "model_name": "VBoxModel",
          "model_module_version": "1.5.0",
          "state": {
            "_dom_classes": [
              "widget-interact"
            ],
            "_model_module": "@jupyter-widgets/controls",
            "_model_module_version": "1.5.0",
            "_model_name": "VBoxModel",
            "_view_count": null,
            "_view_module": "@jupyter-widgets/controls",
            "_view_module_version": "1.5.0",
            "_view_name": "VBoxView",
            "box_style": "",
            "children": [
              "IPY_MODEL_e5e6652a09094f4b815de3047715c117",
              "IPY_MODEL_0b6bc75e20794df883970a532f17ce5a",
              "IPY_MODEL_4015ec204bb74345ae518df5aa85d802",
              "IPY_MODEL_a1cf380afbe9496da141ba746794b331"
            ],
            "layout": "IPY_MODEL_9235b99ca0244cdf9df76c29996b48c5"
          }
        },
        "e5e6652a09094f4b815de3047715c117": {
          "model_module": "@jupyter-widgets/controls",
          "model_name": "FloatSliderModel",
          "model_module_version": "1.5.0",
          "state": {
            "_dom_classes": [],
            "_model_module": "@jupyter-widgets/controls",
            "_model_module_version": "1.5.0",
            "_model_name": "FloatSliderModel",
            "_view_count": null,
            "_view_module": "@jupyter-widgets/controls",
            "_view_module_version": "1.5.0",
            "_view_name": "FloatSliderView",
            "continuous_update": false,
            "description": "p:",
            "description_tooltip": null,
            "disabled": false,
            "layout": "IPY_MODEL_a4450ca576d24ca69e3272ffe4b59fec",
            "max": 20,
            "min": 0.5,
            "orientation": "horizontal",
            "readout": true,
            "readout_format": ".1f",
            "step": 0.1,
            "style": "IPY_MODEL_50110bd399474bdea7b4c778d3000db6",
            "value": 1
          }
        },
        "0b6bc75e20794df883970a532f17ce5a": {
          "model_module": "@jupyter-widgets/controls",
          "model_name": "FloatSliderModel",
          "model_module_version": "1.5.0",
          "state": {
            "_dom_classes": [],
            "_model_module": "@jupyter-widgets/controls",
            "_model_module_version": "1.5.0",
            "_model_name": "FloatSliderModel",
            "_view_count": null,
            "_view_module": "@jupyter-widgets/controls",
            "_view_module_version": "1.5.0",
            "_view_name": "FloatSliderView",
            "continuous_update": false,
            "description": "q:",
            "description_tooltip": null,
            "disabled": false,
            "layout": "IPY_MODEL_230a7443b3d54cfd98efb3fdacec95be",
            "max": 20,
            "min": 0.5,
            "orientation": "horizontal",
            "readout": true,
            "readout_format": ".1f",
            "step": 0.1,
            "style": "IPY_MODEL_aff65f761f314f98ae39673985526bb2",
            "value": 1
          }
        },
        "a1cf380afbe9496da141ba746794b331": {
          "model_module": "@jupyter-widgets/output",
          "model_name": "OutputModel",
          "model_module_version": "1.0.0",
          "state": {
            "_dom_classes": [],
            "_model_module": "@jupyter-widgets/output",
            "_model_module_version": "1.0.0",
            "_model_name": "OutputModel",
            "_view_count": null,
            "_view_module": "@jupyter-widgets/output",
            "_view_module_version": "1.0.0",
            "_view_name": "OutputView",
            "layout": "IPY_MODEL_16215fc7cb9a4ec8ae607b2ac8a5dd59",
            "msg_id": "",
            "outputs": [
              {
                "output_type": "display_data",
                "data": {
                  "text/plain": "Canvas(toolbar=Toolbar(toolitems=[('Home', 'Reset original view', 'home', 'home'), ('Back', 'Back to previous …",
                  "image/png": "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",
                  "text/html": "\n            <div style=\"display: inline-block;\">\n                <div class=\"jupyter-widgets widget-label\" style=\"text-align: center;\">\n                    Figure\n                </div>\n                <img src='data:image/png;base64,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' width=640.0/>\n            </div>\n        ",
                  "application/vnd.jupyter.widget-view+json": {
                    "version_major": 2,
                    "version_minor": 0,
                    "model_id": "656f639454604c3da66afa7ce0675fd6"
                  }
                },
                "metadata": {
                  "application/vnd.jupyter.widget-view+json": {
                    "colab": {
                      "custom_widget_manager": {
                        "url": "https://ssl.gstatic.com/colaboratory-static/widgets/colab-cdn-widget-manager/2b70e893a8ba7c0f/manager.min.js"
                      }
                    }
                  }
                }
              }
            ]
          }
        },
        "9235b99ca0244cdf9df76c29996b48c5": {
          "model_module": "@jupyter-widgets/base",
          "model_name": "LayoutModel",
          "model_module_version": "1.2.0",
          "state": {
            "_model_module": "@jupyter-widgets/base",
            "_model_module_version": "1.2.0",
            "_model_name": "LayoutModel",
            "_view_count": null,
            "_view_module": "@jupyter-widgets/base",
            "_view_module_version": "1.2.0",
            "_view_name": "LayoutView",
            "align_content": null,
            "align_items": null,
            "align_self": null,
            "border": null,
            "bottom": null,
            "display": null,
            "flex": null,
            "flex_flow": null,
            "grid_area": null,
            "grid_auto_columns": null,
            "grid_auto_flow": null,
            "grid_auto_rows": null,
            "grid_column": null,
            "grid_gap": null,
            "grid_row": null,
            "grid_template_areas": null,
            "grid_template_columns": null,
            "grid_template_rows": null,
            "height": null,
            "justify_content": null,
            "justify_items": null,
            "left": null,
            "margin": null,
            "max_height": null,
            "max_width": null,
            "min_height": null,
            "min_width": null,
            "object_fit": null,
            "object_position": null,
            "order": null,
            "overflow": null,
            "overflow_x": null,
            "overflow_y": null,
            "padding": null,
            "right": null,
            "top": null,
            "visibility": null,
            "width": null
          }
        },
        "a4450ca576d24ca69e3272ffe4b59fec": {
          "model_module": "@jupyter-widgets/base",
          "model_name": "LayoutModel",
          "model_module_version": "1.2.0",
          "state": {
            "_model_module": "@jupyter-widgets/base",
            "_model_module_version": "1.2.0",
            "_model_name": "LayoutModel",
            "_view_count": null,
            "_view_module": "@jupyter-widgets/base",
            "_view_module_version": "1.2.0",
            "_view_name": "LayoutView",
            "align_content": null,
            "align_items": null,
            "align_self": null,
            "border": null,
            "bottom": null,
            "display": null,
            "flex": null,
            "flex_flow": null,
            "grid_area": null,
            "grid_auto_columns": null,
            "grid_auto_flow": null,
            "grid_auto_rows": null,
            "grid_column": null,
            "grid_gap": null,
            "grid_row": null,
            "grid_template_areas": null,
            "grid_template_columns": null,
            "grid_template_rows": null,
            "height": null,
            "justify_content": null,
            "justify_items": null,
            "left": null,
            "margin": null,
            "max_height": null,
            "max_width": null,
            "min_height": null,
            "min_width": null,
            "object_fit": null,
            "object_position": null,
            "order": null,
            "overflow": null,
            "overflow_x": null,
            "overflow_y": null,
            "padding": null,
            "right": null,
            "top": null,
            "visibility": null,
            "width": null
          }
        },
        "50110bd399474bdea7b4c778d3000db6": {
          "model_module": "@jupyter-widgets/controls",
          "model_name": "SliderStyleModel",
          "model_module_version": "1.5.0",
          "state": {
            "_model_module": "@jupyter-widgets/controls",
            "_model_module_version": "1.5.0",
            "_model_name": "SliderStyleModel",
            "_view_count": null,
            "_view_module": "@jupyter-widgets/base",
            "_view_module_version": "1.2.0",
            "_view_name": "StyleView",
            "description_width": "",
            "handle_color": null
          }
        },
        "230a7443b3d54cfd98efb3fdacec95be": {
          "model_module": "@jupyter-widgets/base",
          "model_name": "LayoutModel",
          "model_module_version": "1.2.0",
          "state": {
            "_model_module": "@jupyter-widgets/base",
            "_model_module_version": "1.2.0",
            "_model_name": "LayoutModel",
            "_view_count": null,
            "_view_module": "@jupyter-widgets/base",
            "_view_module_version": "1.2.0",
            "_view_name": "LayoutView",
            "align_content": null,
            "align_items": null,
            "align_self": null,
            "border": null,
            "bottom": null,
            "display": null,
            "flex": null,
            "flex_flow": null,
            "grid_area": null,
            "grid_auto_columns": null,
            "grid_auto_flow": null,
            "grid_auto_rows": null,
            "grid_column": null,
            "grid_gap": null,
            "grid_row": null,
            "grid_template_areas": null,
            "grid_template_columns": null,
            "grid_template_rows": null,
            "height": null,
            "justify_content": null,
            "justify_items": null,
            "left": null,
            "margin": null,
            "max_height": null,
            "max_width": null,
            "min_height": null,
            "min_width": null,
            "object_fit": null,
            "object_position": null,
            "order": null,
            "overflow": null,
            "overflow_x": null,
            "overflow_y": null,
            "padding": null,
            "right": null,
            "top": null,
            "visibility": null,
            "width": null
          }
        },
        "aff65f761f314f98ae39673985526bb2": {
          "model_module": "@jupyter-widgets/controls",
          "model_name": "SliderStyleModel",
          "model_module_version": "1.5.0",
          "state": {
            "_model_module": "@jupyter-widgets/controls",
            "_model_module_version": "1.5.0",
            "_model_name": "SliderStyleModel",
            "_view_count": null,
            "_view_module": "@jupyter-widgets/base",
            "_view_module_version": "1.2.0",
            "_view_name": "StyleView",
            "description_width": "",
            "handle_color": null
          }
        },
        "16215fc7cb9a4ec8ae607b2ac8a5dd59": {
          "model_module": "@jupyter-widgets/base",
          "model_name": "LayoutModel",
          "model_module_version": "1.2.0",
          "state": {
            "_model_module": "@jupyter-widgets/base",
            "_model_module_version": "1.2.0",
            "_model_name": "LayoutModel",
            "_view_count": null,
            "_view_module": "@jupyter-widgets/base",
            "_view_module_version": "1.2.0",
            "_view_name": "LayoutView",
            "align_content": null,
            "align_items": null,
            "align_self": null,
            "border": null,
            "bottom": null,
            "display": null,
            "flex": null,
            "flex_flow": null,
            "grid_area": null,
            "grid_auto_columns": null,
            "grid_auto_flow": null,
            "grid_auto_rows": null,
            "grid_column": null,
            "grid_gap": null,
            "grid_row": null,
            "grid_template_areas": null,
            "grid_template_columns": null,
            "grid_template_rows": null,
            "height": null,
            "justify_content": null,
            "justify_items": null,
            "left": null,
            "margin": null,
            "max_height": null,
            "max_width": null,
            "min_height": null,
            "min_width": null,
            "object_fit": null,
            "object_position": null,
            "order": null,
            "overflow": null,
            "overflow_x": null,
            "overflow_y": null,
            "padding": null,
            "right": null,
            "top": null,
            "visibility": null,
            "width": null
          }
        },
        "467b8fb706c043e899c0fd79e881b2da": {
          "model_module": "@jupyter-widgets/base",
          "model_name": "LayoutModel",
          "model_module_version": "1.2.0",
          "state": {
            "_model_module": "@jupyter-widgets/base",
            "_model_module_version": "1.2.0",
            "_model_name": "LayoutModel",
            "_view_count": null,
            "_view_module": "@jupyter-widgets/base",
            "_view_module_version": "1.2.0",
            "_view_name": "LayoutView",
            "align_content": null,
            "align_items": null,
            "align_self": null,
            "border": null,
            "bottom": null,
            "display": null,
            "flex": null,
            "flex_flow": null,
            "grid_area": null,
            "grid_auto_columns": null,
            "grid_auto_flow": null,
            "grid_auto_rows": null,
            "grid_column": null,
            "grid_gap": null,
            "grid_row": null,
            "grid_template_areas": null,
            "grid_template_columns": null,
            "grid_template_rows": null,
            "height": null,
            "justify_content": null,
            "justify_items": null,
            "left": null,
            "margin": null,
            "max_height": null,
            "max_width": null,
            "min_height": null,
            "min_width": null,
            "object_fit": null,
            "object_position": null,
            "order": null,
            "overflow": null,
            "overflow_x": null,
            "overflow_y": null,
            "padding": null,
            "right": null,
            "top": null,
            "visibility": null,
            "width": null
          }
        },
        "fe90d56ca74b467aa24e1fde793c3e68": {
          "model_module": "@jupyter-widgets/base",
          "model_name": "LayoutModel",
          "model_module_version": "1.2.0",
          "state": {
            "_model_module": "@jupyter-widgets/base",
            "_model_module_version": "1.2.0",
            "_model_name": "LayoutModel",
            "_view_count": null,
            "_view_module": "@jupyter-widgets/base",
            "_view_module_version": "1.2.0",
            "_view_name": "LayoutView",
            "align_content": null,
            "align_items": null,
            "align_self": null,
            "border": null,
            "bottom": null,
            "display": null,
            "flex": null,
            "flex_flow": null,
            "grid_area": null,
            "grid_auto_columns": null,
            "grid_auto_flow": null,
            "grid_auto_rows": null,
            "grid_column": null,
            "grid_gap": null,
            "grid_row": null,
            "grid_template_areas": null,
            "grid_template_columns": null,
            "grid_template_rows": null,
            "height": null,
            "justify_content": null,
            "justify_items": null,
            "left": null,
            "margin": null,
            "max_height": null,
            "max_width": null,
            "min_height": null,
            "min_width": null,
            "object_fit": null,
            "object_position": null,
            "order": null,
            "overflow": null,
            "overflow_x": null,
            "overflow_y": null,
            "padding": null,
            "right": null,
            "top": null,
            "visibility": null,
            "width": null
          }
        },
        "1da361a77b564c48a376a8024c6d4c0a": {
          "model_module": "jupyter-matplotlib",
          "model_name": "ToolbarModel",
          "model_module_version": "^0.11",
          "state": {
            "_current_action": "",
            "_dom_classes": [],
            "_model_module": "jupyter-matplotlib",
            "_model_module_version": "^0.11",
            "_model_name": "ToolbarModel",
            "_view_count": null,
            "_view_module": "jupyter-matplotlib",
            "_view_module_version": "^0.11",
            "_view_name": "ToolbarView",
            "button_style": "",
            "collapsed": true,
            "layout": "IPY_MODEL_fe90d56ca74b467aa24e1fde793c3e68",
            "orientation": "vertical",
            "toolitems": [
              [
                "Home",
                "Reset original view",
                "home",
                "home"
              ],
              [
                "Back",
                "Back to previous view",
                "arrow-left",
                "back"
              ],
              [
                "Forward",
                "Forward to next view",
                "arrow-right",
                "forward"
              ],
              [
                "Pan",
                "Left button pans, Right button zooms\nx/y fixes axis, CTRL fixes aspect",
                "arrows",
                "pan"
              ],
              [
                "Zoom",
                "Zoom to rectangle\nx/y fixes axis",
                "square-o",
                "zoom"
              ],
              [
                "Download",
                "Download plot",
                "floppy-o",
                "save_figure"
              ]
            ]
          }
        },
        "656f639454604c3da66afa7ce0675fd6": {
          "model_module": "jupyter-matplotlib",
          "model_name": "MPLCanvasModel",
          "model_module_version": "^0.11",
          "state": {
            "_cursor": "default",
            "_data_url": "data:image/png;base64,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",
            "_dom_classes": [],
            "_figure_label": "Figure 4",
            "_image_mode": "diff",
            "_message": "x=3.900 y=2685.18",
            "_model_module": "jupyter-matplotlib",
            "_model_module_version": "^0.11",
            "_model_name": "MPLCanvasModel",
            "_rubberband_height": 0,
            "_rubberband_width": 0,
            "_rubberband_x": 0,
            "_rubberband_y": 0,
            "_size": [
              640,
              480
            ],
            "_view_count": null,
            "_view_module": "jupyter-matplotlib",
            "_view_module_version": "^0.11",
            "_view_name": "MPLCanvasView",
            "capture_scroll": false,
            "footer_visible": true,
            "header_visible": true,
            "layout": "IPY_MODEL_467b8fb706c043e899c0fd79e881b2da",
            "pan_zoom_throttle": 33,
            "resizable": true,
            "toolbar": "IPY_MODEL_1da361a77b564c48a376a8024c6d4c0a",
            "toolbar_position": "left",
            "toolbar_visible": "fade-in-fade-out"
          }
        }
      }
    }
  },
  "nbformat": 4,
  "nbformat_minor": 5
}